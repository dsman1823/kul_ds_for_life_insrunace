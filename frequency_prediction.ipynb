{
 "cells": [
  {
   "cell_type": "markdown",
   "id": "bdb93e28",
   "metadata": {},
   "source": [
    "## 1 Libraries"
   ]
  },
  {
   "cell_type": "code",
   "execution_count": 1,
   "id": "69b821db",
   "metadata": {},
   "outputs": [],
   "source": [
    "import pandas as pd\n",
    "import numpy as np\n",
    "import xgboost as xgb\n",
    "import matplotlib.pyplot as plt\n",
    "\n",
    "from sklearn.preprocessing import StandardScaler\n",
    "from sklearn.model_selection import train_test_split, GridSearchCV, RandomizedSearchCV\n",
    "from sklearn.cluster import KMeans\n",
    "from sklearn.inspection import PartialDependenceDisplay"
   ]
  },
  {
   "cell_type": "code",
   "execution_count": 2,
   "id": "98f248ce",
   "metadata": {},
   "outputs": [
    {
     "data": {
      "text/html": [
       "<div>\n",
       "<style scoped>\n",
       "    .dataframe tbody tr th:only-of-type {\n",
       "        vertical-align: middle;\n",
       "    }\n",
       "\n",
       "    .dataframe tbody tr th {\n",
       "        vertical-align: top;\n",
       "    }\n",
       "\n",
       "    .dataframe thead th {\n",
       "        text-align: right;\n",
       "    }\n",
       "</style>\n",
       "<table border=\"1\" class=\"dataframe\">\n",
       "  <thead>\n",
       "    <tr style=\"text-align: right;\">\n",
       "      <th></th>\n",
       "      <th>AGEPH</th>\n",
       "      <th>CODPOSS</th>\n",
       "      <th>duree</th>\n",
       "      <th>lnexpo</th>\n",
       "      <th>nbrtotc</th>\n",
       "      <th>nbrtotan</th>\n",
       "      <th>chargtot</th>\n",
       "      <th>agecar</th>\n",
       "      <th>sexp</th>\n",
       "      <th>fuelc</th>\n",
       "      <th>split</th>\n",
       "      <th>usec</th>\n",
       "      <th>fleetc</th>\n",
       "      <th>sportc</th>\n",
       "      <th>coverp</th>\n",
       "      <th>powerc</th>\n",
       "    </tr>\n",
       "  </thead>\n",
       "  <tbody>\n",
       "    <tr>\n",
       "      <th>0</th>\n",
       "      <td>64</td>\n",
       "      <td>1000</td>\n",
       "      <td>1.000000</td>\n",
       "      <td>0.000000</td>\n",
       "      <td>0</td>\n",
       "      <td>0.000000</td>\n",
       "      <td>0.000000</td>\n",
       "      <td>2-5</td>\n",
       "      <td>Female</td>\n",
       "      <td>Petrol</td>\n",
       "      <td>Once</td>\n",
       "      <td>Private</td>\n",
       "      <td>No</td>\n",
       "      <td>No</td>\n",
       "      <td>MTPL+</td>\n",
       "      <td>66-110</td>\n",
       "    </tr>\n",
       "    <tr>\n",
       "      <th>1</th>\n",
       "      <td>28</td>\n",
       "      <td>1000</td>\n",
       "      <td>0.046575</td>\n",
       "      <td>-3.066684</td>\n",
       "      <td>1</td>\n",
       "      <td>21.470588</td>\n",
       "      <td>155.974606</td>\n",
       "      <td>6-10</td>\n",
       "      <td>Female</td>\n",
       "      <td>Petrol</td>\n",
       "      <td>Twice</td>\n",
       "      <td>Private</td>\n",
       "      <td>No</td>\n",
       "      <td>No</td>\n",
       "      <td>MTPL</td>\n",
       "      <td>66-110</td>\n",
       "    </tr>\n",
       "    <tr>\n",
       "      <th>2</th>\n",
       "      <td>58</td>\n",
       "      <td>1000</td>\n",
       "      <td>0.402740</td>\n",
       "      <td>-0.909465</td>\n",
       "      <td>0</td>\n",
       "      <td>0.000000</td>\n",
       "      <td>0.000000</td>\n",
       "      <td>&gt;10</td>\n",
       "      <td>Female</td>\n",
       "      <td>Petrol</td>\n",
       "      <td>Thrice</td>\n",
       "      <td>Private</td>\n",
       "      <td>No</td>\n",
       "      <td>No</td>\n",
       "      <td>MTPL</td>\n",
       "      <td>&lt;66</td>\n",
       "    </tr>\n",
       "    <tr>\n",
       "      <th>3</th>\n",
       "      <td>37</td>\n",
       "      <td>1030</td>\n",
       "      <td>0.169863</td>\n",
       "      <td>-1.772763</td>\n",
       "      <td>0</td>\n",
       "      <td>0.000000</td>\n",
       "      <td>0.000000</td>\n",
       "      <td>2-5</td>\n",
       "      <td>Female</td>\n",
       "      <td>Petrol</td>\n",
       "      <td>Once</td>\n",
       "      <td>Professional</td>\n",
       "      <td>No</td>\n",
       "      <td>No</td>\n",
       "      <td>MTPL+++</td>\n",
       "      <td>66-110</td>\n",
       "    </tr>\n",
       "    <tr>\n",
       "      <th>4</th>\n",
       "      <td>29</td>\n",
       "      <td>1030</td>\n",
       "      <td>1.000000</td>\n",
       "      <td>0.000000</td>\n",
       "      <td>0</td>\n",
       "      <td>0.000000</td>\n",
       "      <td>0.000000</td>\n",
       "      <td>6-10</td>\n",
       "      <td>Female</td>\n",
       "      <td>Petrol</td>\n",
       "      <td>Once</td>\n",
       "      <td>Private</td>\n",
       "      <td>No</td>\n",
       "      <td>No</td>\n",
       "      <td>MTPL+</td>\n",
       "      <td>&lt;66</td>\n",
       "    </tr>\n",
       "  </tbody>\n",
       "</table>\n",
       "</div>"
      ],
      "text/plain": [
       "   AGEPH  CODPOSS     duree    lnexpo  nbrtotc   nbrtotan    chargtot agecar  \\\n",
       "0     64     1000  1.000000  0.000000        0   0.000000    0.000000    2-5   \n",
       "1     28     1000  0.046575 -3.066684        1  21.470588  155.974606   6-10   \n",
       "2     58     1000  0.402740 -0.909465        0   0.000000    0.000000    >10   \n",
       "3     37     1030  0.169863 -1.772763        0   0.000000    0.000000    2-5   \n",
       "4     29     1030  1.000000  0.000000        0   0.000000    0.000000   6-10   \n",
       "\n",
       "     sexp   fuelc   split          usec fleetc sportc   coverp  powerc  \n",
       "0  Female  Petrol    Once       Private     No     No    MTPL+  66-110  \n",
       "1  Female  Petrol   Twice       Private     No     No     MTPL  66-110  \n",
       "2  Female  Petrol  Thrice       Private     No     No     MTPL     <66  \n",
       "3  Female  Petrol    Once  Professional     No     No  MTPL+++  66-110  \n",
       "4  Female  Petrol    Once       Private     No     No    MTPL+     <66  "
      ]
     },
     "execution_count": 2,
     "metadata": {},
     "output_type": "execute_result"
    }
   ],
   "source": [
    "data = pd.read_csv('Assignment.csv')\n",
    "data.head()"
   ]
  },
  {
   "cell_type": "markdown",
   "id": "6fd9e206",
   "metadata": {},
   "source": [
    "## 2 Feature engineering\n",
    "\n",
    "In this section:\n",
    "* categorical covariates will be mapped\n",
    "* tranformation of zipcode data to categorical using k nearest neigbours"
   ]
  },
  {
   "cell_type": "markdown",
   "id": "531df7b2",
   "metadata": {},
   "source": [
    "### 2.1 Mapping text columns to categorical\n",
    "\n",
    "The mapping is made to a signle column, and not to a vector, because all the string columns have internal ordering structure."
   ]
  },
  {
   "cell_type": "code",
   "execution_count": 3,
   "id": "c4ff0659",
   "metadata": {},
   "outputs": [],
   "source": [
    "data['agecar'] =  data['agecar'].map({'0-1': 0, '2-5': 1, '6-10': 2, '>10': 3}) \n",
    "data['sexp'] =  data['sexp'].map({'Female': 0, 'Male':1}) \n",
    "data['fuelc'] = data['fuelc'].map({'Petrol': 0, 'Gasoil': 1})\n",
    "data['split'] = data['split'].map({'Once': 0, 'Twice': 1, 'Thrice': 2, 'Monthly': 3})\n",
    "data['usec'] = data['usec'].map({'Private': 0, 'Professional': 1})\n",
    "data['fleetc'] = data['fleetc'].map({'No': 0, 'Yes': 1})\n",
    "data['sportc'] = data['sportc'].map({'No': 0, 'Yes': 1})\n",
    "data['coverp'] = data['coverp'].map({'MTPL': 0, 'MTPL+': 1, 'MTPL+++': 2})\n",
    "data['powerc'] = data['powerc'].map({'<66': 0, '66-110': 1, '>110': 2})"
   ]
  },
  {
   "cell_type": "markdown",
   "id": "ace143ee",
   "metadata": {},
   "source": [
    "### 2.2 Transforming exposure"
   ]
  },
  {
   "cell_type": "code",
   "execution_count": 4,
   "id": "cb1a7e6a",
   "metadata": {},
   "outputs": [],
   "source": [
    "data['expo'] =  data['lnexpo'].apply(np.exp)"
   ]
  },
  {
   "cell_type": "markdown",
   "id": "73d616d2",
   "metadata": {},
   "source": [
    "### 2.3 Handling postal code"
   ]
  },
  {
   "cell_type": "code",
   "execution_count": 5,
   "id": "dd54101e",
   "metadata": {},
   "outputs": [
    {
     "data": {
      "text/html": [
       "<div>\n",
       "<style scoped>\n",
       "    .dataframe tbody tr th:only-of-type {\n",
       "        vertical-align: middle;\n",
       "    }\n",
       "\n",
       "    .dataframe tbody tr th {\n",
       "        vertical-align: top;\n",
       "    }\n",
       "\n",
       "    .dataframe thead th {\n",
       "        text-align: right;\n",
       "    }\n",
       "</style>\n",
       "<table border=\"1\" class=\"dataframe\">\n",
       "  <thead>\n",
       "    <tr style=\"text-align: right;\">\n",
       "      <th></th>\n",
       "      <th>CODPOSS</th>\n",
       "      <th>LAT</th>\n",
       "      <th>LONG</th>\n",
       "    </tr>\n",
       "  </thead>\n",
       "  <tbody>\n",
       "    <tr>\n",
       "      <th>0</th>\n",
       "      <td>1000</td>\n",
       "      <td>50.833333</td>\n",
       "      <td>4.350000</td>\n",
       "    </tr>\n",
       "    <tr>\n",
       "      <th>1</th>\n",
       "      <td>1000</td>\n",
       "      <td>50.833333</td>\n",
       "      <td>4.350000</td>\n",
       "    </tr>\n",
       "    <tr>\n",
       "      <th>2</th>\n",
       "      <td>1000</td>\n",
       "      <td>50.833333</td>\n",
       "      <td>4.350000</td>\n",
       "    </tr>\n",
       "    <tr>\n",
       "      <th>3</th>\n",
       "      <td>1030</td>\n",
       "      <td>50.850000</td>\n",
       "      <td>4.383333</td>\n",
       "    </tr>\n",
       "    <tr>\n",
       "      <th>4</th>\n",
       "      <td>1030</td>\n",
       "      <td>50.850000</td>\n",
       "      <td>4.383333</td>\n",
       "    </tr>\n",
       "  </tbody>\n",
       "</table>\n",
       "</div>"
      ],
      "text/plain": [
       "   CODPOSS        LAT      LONG\n",
       "0     1000  50.833333  4.350000\n",
       "1     1000  50.833333  4.350000\n",
       "2     1000  50.833333  4.350000\n",
       "3     1030  50.850000  4.383333\n",
       "4     1030  50.850000  4.383333"
      ]
     },
     "execution_count": 5,
     "metadata": {},
     "output_type": "execute_result"
    }
   ],
   "source": [
    "geo_data =  pd.read_excel('inspost.xls')\n",
    "df1 = data[['CODPOSS']]\n",
    "df2 = geo_data[['CODPOSS', 'LAT', 'LONG']]\n",
    "mapped_geodata = pd.merge(df1, df2, on='CODPOSS', how='left')\n",
    "\n",
    "mapped_geodata.head()"
   ]
  },
  {
   "cell_type": "markdown",
   "id": "b08c13bc",
   "metadata": {},
   "source": [
    "#### 2.3.1 Clustering of the datapoints\n",
    "\n",
    "The idea is to divide the data into categories, which a close in location (LAT and LONG) and in loss per exposure. \n",
    "\n",
    "Since the categories can't be ordered, one-hot encoding approach is used to transform the clusters intor vectors"
   ]
  },
  {
   "cell_type": "code",
   "execution_count": 6,
   "id": "6e8281a8",
   "metadata": {},
   "outputs": [
    {
     "name": "stderr",
     "output_type": "stream",
     "text": [
      "C:\\Users\\seidm\\anaconda3\\envs\\dsei\\lib\\site-packages\\sklearn\\cluster\\_kmeans.py:870: FutureWarning: The default value of `n_init` will change from 10 to 'auto' in 1.4. Set the value of `n_init` explicitly to suppress the warning\n",
      "  warnings.warn(\n"
     ]
    }
   ],
   "source": [
    "clustering_df = pd.DataFrame({\n",
    "    'LAT': mapped_geodata['LAT'],\n",
    "    'LONG': mapped_geodata['LONG'],\n",
    "    'loss': data['chargtot'] / data['expo'] # Proxy to the technical premium\n",
    "})\n",
    "\n",
    "X_scaled = StandardScaler().fit_transform(clustering_df[['LAT', 'LONG', 'loss']])\n",
    "\n",
    "N_CLUSTERS = 4\n",
    "kmeans = KMeans(n_clusters=N_CLUSTERS)\n",
    "kmeans.fit(X_scaled)\n",
    "\n",
    "ONE_HOT_PREFIX = 'loc_category'\n",
    "ONE_HOT_SEP = '_'\n",
    "one_hot = pd.get_dummies(kmeans.labels_, prefix=ONE_HOT_PREFIX, prefix_sep=ONE_HOT_SEP)\n",
    "\n",
    "data = pd.concat([data, one_hot], axis=1)\n"
   ]
  },
  {
   "cell_type": "code",
   "execution_count": 7,
   "id": "f70f2ed1",
   "metadata": {
    "scrolled": true
   },
   "outputs": [
    {
     "data": {
      "text/html": [
       "<div>\n",
       "<style scoped>\n",
       "    .dataframe tbody tr th:only-of-type {\n",
       "        vertical-align: middle;\n",
       "    }\n",
       "\n",
       "    .dataframe tbody tr th {\n",
       "        vertical-align: top;\n",
       "    }\n",
       "\n",
       "    .dataframe thead th {\n",
       "        text-align: right;\n",
       "    }\n",
       "</style>\n",
       "<table border=\"1\" class=\"dataframe\">\n",
       "  <thead>\n",
       "    <tr style=\"text-align: right;\">\n",
       "      <th></th>\n",
       "      <th>AGEPH</th>\n",
       "      <th>CODPOSS</th>\n",
       "      <th>duree</th>\n",
       "      <th>lnexpo</th>\n",
       "      <th>nbrtotc</th>\n",
       "      <th>nbrtotan</th>\n",
       "      <th>chargtot</th>\n",
       "      <th>agecar</th>\n",
       "      <th>sexp</th>\n",
       "      <th>fuelc</th>\n",
       "      <th>...</th>\n",
       "      <th>usec</th>\n",
       "      <th>fleetc</th>\n",
       "      <th>sportc</th>\n",
       "      <th>coverp</th>\n",
       "      <th>powerc</th>\n",
       "      <th>expo</th>\n",
       "      <th>loc_category_0</th>\n",
       "      <th>loc_category_1</th>\n",
       "      <th>loc_category_2</th>\n",
       "      <th>loc_category_3</th>\n",
       "    </tr>\n",
       "  </thead>\n",
       "  <tbody>\n",
       "    <tr>\n",
       "      <th>0</th>\n",
       "      <td>64</td>\n",
       "      <td>1000</td>\n",
       "      <td>1.000000</td>\n",
       "      <td>0.000000</td>\n",
       "      <td>0</td>\n",
       "      <td>0.000000</td>\n",
       "      <td>0.000000</td>\n",
       "      <td>1</td>\n",
       "      <td>0</td>\n",
       "      <td>0</td>\n",
       "      <td>...</td>\n",
       "      <td>0</td>\n",
       "      <td>0</td>\n",
       "      <td>0</td>\n",
       "      <td>1</td>\n",
       "      <td>1</td>\n",
       "      <td>1.000000</td>\n",
       "      <td>1</td>\n",
       "      <td>0</td>\n",
       "      <td>0</td>\n",
       "      <td>0</td>\n",
       "    </tr>\n",
       "    <tr>\n",
       "      <th>1</th>\n",
       "      <td>28</td>\n",
       "      <td>1000</td>\n",
       "      <td>0.046575</td>\n",
       "      <td>-3.066684</td>\n",
       "      <td>1</td>\n",
       "      <td>21.470588</td>\n",
       "      <td>155.974606</td>\n",
       "      <td>2</td>\n",
       "      <td>0</td>\n",
       "      <td>0</td>\n",
       "      <td>...</td>\n",
       "      <td>0</td>\n",
       "      <td>0</td>\n",
       "      <td>0</td>\n",
       "      <td>0</td>\n",
       "      <td>1</td>\n",
       "      <td>0.046575</td>\n",
       "      <td>1</td>\n",
       "      <td>0</td>\n",
       "      <td>0</td>\n",
       "      <td>0</td>\n",
       "    </tr>\n",
       "    <tr>\n",
       "      <th>2</th>\n",
       "      <td>58</td>\n",
       "      <td>1000</td>\n",
       "      <td>0.402740</td>\n",
       "      <td>-0.909465</td>\n",
       "      <td>0</td>\n",
       "      <td>0.000000</td>\n",
       "      <td>0.000000</td>\n",
       "      <td>3</td>\n",
       "      <td>0</td>\n",
       "      <td>0</td>\n",
       "      <td>...</td>\n",
       "      <td>0</td>\n",
       "      <td>0</td>\n",
       "      <td>0</td>\n",
       "      <td>0</td>\n",
       "      <td>0</td>\n",
       "      <td>0.402740</td>\n",
       "      <td>1</td>\n",
       "      <td>0</td>\n",
       "      <td>0</td>\n",
       "      <td>0</td>\n",
       "    </tr>\n",
       "    <tr>\n",
       "      <th>3</th>\n",
       "      <td>37</td>\n",
       "      <td>1030</td>\n",
       "      <td>0.169863</td>\n",
       "      <td>-1.772763</td>\n",
       "      <td>0</td>\n",
       "      <td>0.000000</td>\n",
       "      <td>0.000000</td>\n",
       "      <td>1</td>\n",
       "      <td>0</td>\n",
       "      <td>0</td>\n",
       "      <td>...</td>\n",
       "      <td>1</td>\n",
       "      <td>0</td>\n",
       "      <td>0</td>\n",
       "      <td>2</td>\n",
       "      <td>1</td>\n",
       "      <td>0.169863</td>\n",
       "      <td>1</td>\n",
       "      <td>0</td>\n",
       "      <td>0</td>\n",
       "      <td>0</td>\n",
       "    </tr>\n",
       "    <tr>\n",
       "      <th>4</th>\n",
       "      <td>29</td>\n",
       "      <td>1030</td>\n",
       "      <td>1.000000</td>\n",
       "      <td>0.000000</td>\n",
       "      <td>0</td>\n",
       "      <td>0.000000</td>\n",
       "      <td>0.000000</td>\n",
       "      <td>2</td>\n",
       "      <td>0</td>\n",
       "      <td>0</td>\n",
       "      <td>...</td>\n",
       "      <td>0</td>\n",
       "      <td>0</td>\n",
       "      <td>0</td>\n",
       "      <td>1</td>\n",
       "      <td>0</td>\n",
       "      <td>1.000000</td>\n",
       "      <td>1</td>\n",
       "      <td>0</td>\n",
       "      <td>0</td>\n",
       "      <td>0</td>\n",
       "    </tr>\n",
       "    <tr>\n",
       "      <th>...</th>\n",
       "      <td>...</td>\n",
       "      <td>...</td>\n",
       "      <td>...</td>\n",
       "      <td>...</td>\n",
       "      <td>...</td>\n",
       "      <td>...</td>\n",
       "      <td>...</td>\n",
       "      <td>...</td>\n",
       "      <td>...</td>\n",
       "      <td>...</td>\n",
       "      <td>...</td>\n",
       "      <td>...</td>\n",
       "      <td>...</td>\n",
       "      <td>...</td>\n",
       "      <td>...</td>\n",
       "      <td>...</td>\n",
       "      <td>...</td>\n",
       "      <td>...</td>\n",
       "      <td>...</td>\n",
       "      <td>...</td>\n",
       "      <td>...</td>\n",
       "    </tr>\n",
       "    <tr>\n",
       "      <th>163652</th>\n",
       "      <td>50</td>\n",
       "      <td>9960</td>\n",
       "      <td>1.000000</td>\n",
       "      <td>0.000000</td>\n",
       "      <td>0</td>\n",
       "      <td>0.000000</td>\n",
       "      <td>0.000000</td>\n",
       "      <td>1</td>\n",
       "      <td>1</td>\n",
       "      <td>0</td>\n",
       "      <td>...</td>\n",
       "      <td>0</td>\n",
       "      <td>0</td>\n",
       "      <td>0</td>\n",
       "      <td>1</td>\n",
       "      <td>0</td>\n",
       "      <td>1.000000</td>\n",
       "      <td>1</td>\n",
       "      <td>0</td>\n",
       "      <td>0</td>\n",
       "      <td>0</td>\n",
       "    </tr>\n",
       "    <tr>\n",
       "      <th>163653</th>\n",
       "      <td>86</td>\n",
       "      <td>9960</td>\n",
       "      <td>1.000000</td>\n",
       "      <td>0.000000</td>\n",
       "      <td>0</td>\n",
       "      <td>0.000000</td>\n",
       "      <td>0.000000</td>\n",
       "      <td>2</td>\n",
       "      <td>1</td>\n",
       "      <td>0</td>\n",
       "      <td>...</td>\n",
       "      <td>0</td>\n",
       "      <td>0</td>\n",
       "      <td>0</td>\n",
       "      <td>0</td>\n",
       "      <td>0</td>\n",
       "      <td>1.000000</td>\n",
       "      <td>1</td>\n",
       "      <td>0</td>\n",
       "      <td>0</td>\n",
       "      <td>0</td>\n",
       "    </tr>\n",
       "    <tr>\n",
       "      <th>163654</th>\n",
       "      <td>64</td>\n",
       "      <td>9960</td>\n",
       "      <td>1.000000</td>\n",
       "      <td>0.000000</td>\n",
       "      <td>0</td>\n",
       "      <td>0.000000</td>\n",
       "      <td>0.000000</td>\n",
       "      <td>1</td>\n",
       "      <td>1</td>\n",
       "      <td>0</td>\n",
       "      <td>...</td>\n",
       "      <td>0</td>\n",
       "      <td>0</td>\n",
       "      <td>0</td>\n",
       "      <td>0</td>\n",
       "      <td>0</td>\n",
       "      <td>1.000000</td>\n",
       "      <td>1</td>\n",
       "      <td>0</td>\n",
       "      <td>0</td>\n",
       "      <td>0</td>\n",
       "    </tr>\n",
       "    <tr>\n",
       "      <th>163655</th>\n",
       "      <td>58</td>\n",
       "      <td>9970</td>\n",
       "      <td>1.000000</td>\n",
       "      <td>0.000000</td>\n",
       "      <td>1</td>\n",
       "      <td>1.000000</td>\n",
       "      <td>3177.994988</td>\n",
       "      <td>3</td>\n",
       "      <td>1</td>\n",
       "      <td>0</td>\n",
       "      <td>...</td>\n",
       "      <td>0</td>\n",
       "      <td>1</td>\n",
       "      <td>0</td>\n",
       "      <td>0</td>\n",
       "      <td>0</td>\n",
       "      <td>1.000000</td>\n",
       "      <td>1</td>\n",
       "      <td>0</td>\n",
       "      <td>0</td>\n",
       "      <td>0</td>\n",
       "    </tr>\n",
       "    <tr>\n",
       "      <th>163656</th>\n",
       "      <td>24</td>\n",
       "      <td>9990</td>\n",
       "      <td>1.000000</td>\n",
       "      <td>0.000000</td>\n",
       "      <td>2</td>\n",
       "      <td>2.000000</td>\n",
       "      <td>13818.229594</td>\n",
       "      <td>1</td>\n",
       "      <td>1</td>\n",
       "      <td>0</td>\n",
       "      <td>...</td>\n",
       "      <td>0</td>\n",
       "      <td>0</td>\n",
       "      <td>0</td>\n",
       "      <td>2</td>\n",
       "      <td>0</td>\n",
       "      <td>1.000000</td>\n",
       "      <td>1</td>\n",
       "      <td>0</td>\n",
       "      <td>0</td>\n",
       "      <td>0</td>\n",
       "    </tr>\n",
       "  </tbody>\n",
       "</table>\n",
       "<p>163657 rows × 21 columns</p>\n",
       "</div>"
      ],
      "text/plain": [
       "        AGEPH  CODPOSS     duree    lnexpo  nbrtotc   nbrtotan      chargtot  \\\n",
       "0          64     1000  1.000000  0.000000        0   0.000000      0.000000   \n",
       "1          28     1000  0.046575 -3.066684        1  21.470588    155.974606   \n",
       "2          58     1000  0.402740 -0.909465        0   0.000000      0.000000   \n",
       "3          37     1030  0.169863 -1.772763        0   0.000000      0.000000   \n",
       "4          29     1030  1.000000  0.000000        0   0.000000      0.000000   \n",
       "...       ...      ...       ...       ...      ...        ...           ...   \n",
       "163652     50     9960  1.000000  0.000000        0   0.000000      0.000000   \n",
       "163653     86     9960  1.000000  0.000000        0   0.000000      0.000000   \n",
       "163654     64     9960  1.000000  0.000000        0   0.000000      0.000000   \n",
       "163655     58     9970  1.000000  0.000000        1   1.000000   3177.994988   \n",
       "163656     24     9990  1.000000  0.000000        2   2.000000  13818.229594   \n",
       "\n",
       "        agecar  sexp  fuelc  ...  usec  fleetc  sportc  coverp  powerc  \\\n",
       "0            1     0      0  ...     0       0       0       1       1   \n",
       "1            2     0      0  ...     0       0       0       0       1   \n",
       "2            3     0      0  ...     0       0       0       0       0   \n",
       "3            1     0      0  ...     1       0       0       2       1   \n",
       "4            2     0      0  ...     0       0       0       1       0   \n",
       "...        ...   ...    ...  ...   ...     ...     ...     ...     ...   \n",
       "163652       1     1      0  ...     0       0       0       1       0   \n",
       "163653       2     1      0  ...     0       0       0       0       0   \n",
       "163654       1     1      0  ...     0       0       0       0       0   \n",
       "163655       3     1      0  ...     0       1       0       0       0   \n",
       "163656       1     1      0  ...     0       0       0       2       0   \n",
       "\n",
       "            expo  loc_category_0  loc_category_1  loc_category_2  \\\n",
       "0       1.000000               1               0               0   \n",
       "1       0.046575               1               0               0   \n",
       "2       0.402740               1               0               0   \n",
       "3       0.169863               1               0               0   \n",
       "4       1.000000               1               0               0   \n",
       "...          ...             ...             ...             ...   \n",
       "163652  1.000000               1               0               0   \n",
       "163653  1.000000               1               0               0   \n",
       "163654  1.000000               1               0               0   \n",
       "163655  1.000000               1               0               0   \n",
       "163656  1.000000               1               0               0   \n",
       "\n",
       "        loc_category_3  \n",
       "0                    0  \n",
       "1                    0  \n",
       "2                    0  \n",
       "3                    0  \n",
       "4                    0  \n",
       "...                ...  \n",
       "163652               0  \n",
       "163653               0  \n",
       "163654               0  \n",
       "163655               0  \n",
       "163656               0  \n",
       "\n",
       "[163657 rows x 21 columns]"
      ]
     },
     "execution_count": 7,
     "metadata": {},
     "output_type": "execute_result"
    }
   ],
   "source": [
    "data"
   ]
  },
  {
   "cell_type": "markdown",
   "id": "e0d4d637",
   "metadata": {},
   "source": [
    "### 2.4 Feature columns"
   ]
  },
  {
   "cell_type": "code",
   "execution_count": 8,
   "id": "f96b6f6c",
   "metadata": {},
   "outputs": [],
   "source": [
    "feat_cols = ['agecar','sexp','fuelc','split','usec','fleetc','sportc','coverp', 'powerc', 'AGEPH'] + [\n",
    "    f'{ONE_HOT_PREFIX}{ONE_HOT_SEP}{i}' for i in range(N_CLUSTERS)\n",
    "]\n",
    "\n",
    "categorical_feat_cols = list(set(feat_cols) - set(['AGEPH']))"
   ]
  },
  {
   "cell_type": "markdown",
   "id": "f2ace710",
   "metadata": {},
   "source": [
    "### 2.5 Train-test split\n",
    "\n",
    "To avoid disbalance in the data the split was stratified to $nbrtotc>0$. "
   ]
  },
  {
   "cell_type": "code",
   "execution_count": 9,
   "id": "4b48cd94",
   "metadata": {},
   "outputs": [],
   "source": [
    "X = data[feat_cols].copy()\n",
    "#X['claims_pistive'] = data['nbrtotc'] > 0\n",
    "y = data[['nbrtotc', 'chargtot', 'expo']]\n",
    "\n",
    "X_train, X_test, y_train, y_test = train_test_split(X, y, test_size=0.2, stratify=data['nbrtotc'] > 0, random_state=42)"
   ]
  },
  {
   "cell_type": "markdown",
   "id": "eaae437f",
   "metadata": {},
   "source": [
    "## 3 XGBoost"
   ]
  },
  {
   "cell_type": "code",
   "execution_count": 10,
   "id": "b7882348",
   "metadata": {},
   "outputs": [],
   "source": [
    "def get_feat_importance(tree_based_alg, X):\n",
    "\n",
    "    # Get the feature importances\n",
    "    importances = tree_based_alg.feature_importances_\n",
    "\n",
    "    # Create a dataframe to store the feature importances\n",
    "    feature_importances = pd.DataFrame({'feature': X.columns, 'importance': importances})\n",
    "\n",
    "    # Sort the dataframe by importance\n",
    "    feature_importances = feature_importances.sort_values(by='importance', ascending=False)\n",
    "\n",
    "\n",
    "    plt.figure(figsize=(10, 6))\n",
    "\n",
    "    # Plot the feature importances\n",
    "    plt.bar(feature_importances['feature'], feature_importances['importance'])\n",
    "    plt.xticks(rotation=90)\n",
    "    plt.xlabel('Feature')\n",
    "    plt.ylabel('Importance')\n",
    "    plt.title('Feature Importance')\n",
    "    plt.show()\n",
    "    \n",
    "    return pd.DataFrame(\n",
    "        {\n",
    "            'feature':tree_based_alg.feature_names_in_, \n",
    "            'importance':tree_based_alg.feature_importances_\n",
    "        }\n",
    "    ).sort_values('importance', ascending=False)"
   ]
  },
  {
   "cell_type": "markdown",
   "id": "d58ed470",
   "metadata": {},
   "source": [
    "### 3.1 Frequency prediction"
   ]
  },
  {
   "cell_type": "code",
   "execution_count": 11,
   "id": "f99d1245",
   "metadata": {},
   "outputs": [],
   "source": [
    "X_freq_train = X_train.copy()\n",
    "y_freq_train = y_train['nbrtotc'] / y_train['expo']\n",
    "w_freq_train = y_train['expo']"
   ]
  },
  {
   "cell_type": "markdown",
   "id": "1ec45a1e",
   "metadata": {},
   "source": [
    "#### 3.1.1 Mode building"
   ]
  },
  {
   "cell_type": "code",
   "execution_count": 12,
   "id": "acb472a8",
   "metadata": {},
   "outputs": [],
   "source": [
    "param_dict_xgb = {'max_depth' : [1, 3, 5, 7, 9],\n",
    "              'n_estimators' : [100, 200, 300],\n",
    "              'colsample_bynode' : [0.5, 0.75, 1],\n",
    "              'lambda' : [0, 0.1, 1],\n",
    "              'alpha' : [0, 0.1, 1]}\n",
    "\n",
    "xgb_init_freq = xgb.XGBRegressor(booster='gbtree',\n",
    "                            learning_rate = 0.01,\n",
    "                            objective='count:poisson',\n",
    "                            eval_metric = 'poisson-nloglik',\n",
    "                            monotone_constraints = (1,0,0,0,0,0,0,0,0),\n",
    "                            base_score = np.sum(y_freq_train * w_freq_train)/np.sum(w_freq_train))"
   ]
  },
  {
   "cell_type": "code",
   "execution_count": 13,
   "id": "f733c580",
   "metadata": {
    "scrolled": true
   },
   "outputs": [
    {
     "name": "stdout",
     "output_type": "stream",
     "text": [
      "Fitting 5 folds for each of 2 candidates, totalling 10 fits\n"
     ]
    },
    {
     "data": {
      "text/html": [
       "<style>#sk-container-id-1 {color: black;background-color: white;}#sk-container-id-1 pre{padding: 0;}#sk-container-id-1 div.sk-toggleable {background-color: white;}#sk-container-id-1 label.sk-toggleable__label {cursor: pointer;display: block;width: 100%;margin-bottom: 0;padding: 0.3em;box-sizing: border-box;text-align: center;}#sk-container-id-1 label.sk-toggleable__label-arrow:before {content: \"▸\";float: left;margin-right: 0.25em;color: #696969;}#sk-container-id-1 label.sk-toggleable__label-arrow:hover:before {color: black;}#sk-container-id-1 div.sk-estimator:hover label.sk-toggleable__label-arrow:before {color: black;}#sk-container-id-1 div.sk-toggleable__content {max-height: 0;max-width: 0;overflow: hidden;text-align: left;background-color: #f0f8ff;}#sk-container-id-1 div.sk-toggleable__content pre {margin: 0.2em;color: black;border-radius: 0.25em;background-color: #f0f8ff;}#sk-container-id-1 input.sk-toggleable__control:checked~div.sk-toggleable__content {max-height: 200px;max-width: 100%;overflow: auto;}#sk-container-id-1 input.sk-toggleable__control:checked~label.sk-toggleable__label-arrow:before {content: \"▾\";}#sk-container-id-1 div.sk-estimator input.sk-toggleable__control:checked~label.sk-toggleable__label {background-color: #d4ebff;}#sk-container-id-1 div.sk-label input.sk-toggleable__control:checked~label.sk-toggleable__label {background-color: #d4ebff;}#sk-container-id-1 input.sk-hidden--visually {border: 0;clip: rect(1px 1px 1px 1px);clip: rect(1px, 1px, 1px, 1px);height: 1px;margin: -1px;overflow: hidden;padding: 0;position: absolute;width: 1px;}#sk-container-id-1 div.sk-estimator {font-family: monospace;background-color: #f0f8ff;border: 1px dotted black;border-radius: 0.25em;box-sizing: border-box;margin-bottom: 0.5em;}#sk-container-id-1 div.sk-estimator:hover {background-color: #d4ebff;}#sk-container-id-1 div.sk-parallel-item::after {content: \"\";width: 100%;border-bottom: 1px solid gray;flex-grow: 1;}#sk-container-id-1 div.sk-label:hover label.sk-toggleable__label {background-color: #d4ebff;}#sk-container-id-1 div.sk-serial::before {content: \"\";position: absolute;border-left: 1px solid gray;box-sizing: border-box;top: 0;bottom: 0;left: 50%;z-index: 0;}#sk-container-id-1 div.sk-serial {display: flex;flex-direction: column;align-items: center;background-color: white;padding-right: 0.2em;padding-left: 0.2em;position: relative;}#sk-container-id-1 div.sk-item {position: relative;z-index: 1;}#sk-container-id-1 div.sk-parallel {display: flex;align-items: stretch;justify-content: center;background-color: white;position: relative;}#sk-container-id-1 div.sk-item::before, #sk-container-id-1 div.sk-parallel-item::before {content: \"\";position: absolute;border-left: 1px solid gray;box-sizing: border-box;top: 0;bottom: 0;left: 50%;z-index: -1;}#sk-container-id-1 div.sk-parallel-item {display: flex;flex-direction: column;z-index: 1;position: relative;background-color: white;}#sk-container-id-1 div.sk-parallel-item:first-child::after {align-self: flex-end;width: 50%;}#sk-container-id-1 div.sk-parallel-item:last-child::after {align-self: flex-start;width: 50%;}#sk-container-id-1 div.sk-parallel-item:only-child::after {width: 0;}#sk-container-id-1 div.sk-dashed-wrapped {border: 1px dashed gray;margin: 0 0.4em 0.5em 0.4em;box-sizing: border-box;padding-bottom: 0.4em;background-color: white;}#sk-container-id-1 div.sk-label label {font-family: monospace;font-weight: bold;display: inline-block;line-height: 1.2em;}#sk-container-id-1 div.sk-label-container {text-align: center;}#sk-container-id-1 div.sk-container {/* jupyter's `normalize.less` sets `[hidden] { display: none; }` but bootstrap.min.css set `[hidden] { display: none !important; }` so we also need the `!important` here to be able to override the default hidden behavior on the sphinx rendered scikit-learn.org. See: https://github.com/scikit-learn/scikit-learn/issues/21755 */display: inline-block !important;position: relative;}#sk-container-id-1 div.sk-text-repr-fallback {display: none;}</style><div id=\"sk-container-id-1\" class=\"sk-top-container\"><div class=\"sk-text-repr-fallback\"><pre>RandomizedSearchCV(cv=5,\n",
       "                   estimator=XGBRegressor(base_score=0.13944292879289957,\n",
       "                                          booster=&#x27;gbtree&#x27;, callbacks=None,\n",
       "                                          colsample_bylevel=None,\n",
       "                                          colsample_bynode=None,\n",
       "                                          colsample_bytree=None,\n",
       "                                          early_stopping_rounds=None,\n",
       "                                          enable_categorical=False,\n",
       "                                          eval_metric=&#x27;poisson-nloglik&#x27;,\n",
       "                                          feature_types=None, gamma=None,\n",
       "                                          gpu_id=None, grow_policy=None,\n",
       "                                          importance_type=None,\n",
       "                                          interaction...\n",
       "                                          monotone_constraints=(1, 0, 0, 0, 0,\n",
       "                                                                0, 0, 0, 0),\n",
       "                                          n_estimators=100, n_jobs=None,\n",
       "                                          num_parallel_tree=None,\n",
       "                                          objective=&#x27;count:poisson&#x27;,\n",
       "                                          predictor=None, ...),\n",
       "                   n_iter=2,\n",
       "                   param_distributions={&#x27;alpha&#x27;: [0, 0.1, 1],\n",
       "                                        &#x27;colsample_bynode&#x27;: [0.5, 0.75, 1],\n",
       "                                        &#x27;lambda&#x27;: [0, 0.1, 1],\n",
       "                                        &#x27;max_depth&#x27;: [1, 3, 5, 7, 9],\n",
       "                                        &#x27;n_estimators&#x27;: [100, 200, 300]},\n",
       "                   random_state=54321, scoring=&#x27;neg_mean_poisson_deviance&#x27;,\n",
       "                   verbose=1)</pre><b>In a Jupyter environment, please rerun this cell to show the HTML representation or trust the notebook. <br />On GitHub, the HTML representation is unable to render, please try loading this page with nbviewer.org.</b></div><div class=\"sk-container\" hidden><div class=\"sk-item sk-dashed-wrapped\"><div class=\"sk-label-container\"><div class=\"sk-label sk-toggleable\"><input class=\"sk-toggleable__control sk-hidden--visually\" id=\"sk-estimator-id-1\" type=\"checkbox\" ><label for=\"sk-estimator-id-1\" class=\"sk-toggleable__label sk-toggleable__label-arrow\">RandomizedSearchCV</label><div class=\"sk-toggleable__content\"><pre>RandomizedSearchCV(cv=5,\n",
       "                   estimator=XGBRegressor(base_score=0.13944292879289957,\n",
       "                                          booster=&#x27;gbtree&#x27;, callbacks=None,\n",
       "                                          colsample_bylevel=None,\n",
       "                                          colsample_bynode=None,\n",
       "                                          colsample_bytree=None,\n",
       "                                          early_stopping_rounds=None,\n",
       "                                          enable_categorical=False,\n",
       "                                          eval_metric=&#x27;poisson-nloglik&#x27;,\n",
       "                                          feature_types=None, gamma=None,\n",
       "                                          gpu_id=None, grow_policy=None,\n",
       "                                          importance_type=None,\n",
       "                                          interaction...\n",
       "                                          monotone_constraints=(1, 0, 0, 0, 0,\n",
       "                                                                0, 0, 0, 0),\n",
       "                                          n_estimators=100, n_jobs=None,\n",
       "                                          num_parallel_tree=None,\n",
       "                                          objective=&#x27;count:poisson&#x27;,\n",
       "                                          predictor=None, ...),\n",
       "                   n_iter=2,\n",
       "                   param_distributions={&#x27;alpha&#x27;: [0, 0.1, 1],\n",
       "                                        &#x27;colsample_bynode&#x27;: [0.5, 0.75, 1],\n",
       "                                        &#x27;lambda&#x27;: [0, 0.1, 1],\n",
       "                                        &#x27;max_depth&#x27;: [1, 3, 5, 7, 9],\n",
       "                                        &#x27;n_estimators&#x27;: [100, 200, 300]},\n",
       "                   random_state=54321, scoring=&#x27;neg_mean_poisson_deviance&#x27;,\n",
       "                   verbose=1)</pre></div></div></div><div class=\"sk-parallel\"><div class=\"sk-parallel-item\"><div class=\"sk-item\"><div class=\"sk-label-container\"><div class=\"sk-label sk-toggleable\"><input class=\"sk-toggleable__control sk-hidden--visually\" id=\"sk-estimator-id-2\" type=\"checkbox\" ><label for=\"sk-estimator-id-2\" class=\"sk-toggleable__label sk-toggleable__label-arrow\">estimator: XGBRegressor</label><div class=\"sk-toggleable__content\"><pre>XGBRegressor(base_score=0.13944292879289957, booster=&#x27;gbtree&#x27;, callbacks=None,\n",
       "             colsample_bylevel=None, colsample_bynode=None,\n",
       "             colsample_bytree=None, early_stopping_rounds=None,\n",
       "             enable_categorical=False, eval_metric=&#x27;poisson-nloglik&#x27;,\n",
       "             feature_types=None, gamma=None, gpu_id=None, grow_policy=None,\n",
       "             importance_type=None, interaction_constraints=None,\n",
       "             learning_rate=0.01, max_bin=None, max_cat_threshold=None,\n",
       "             max_cat_to_onehot=None, max_delta_step=None, max_depth=None,\n",
       "             max_leaves=None, min_child_weight=None, missing=nan,\n",
       "             monotone_constraints=(1, 0, 0, 0, 0, 0, 0, 0, 0), n_estimators=100,\n",
       "             n_jobs=None, num_parallel_tree=None, objective=&#x27;count:poisson&#x27;,\n",
       "             predictor=None, ...)</pre></div></div></div><div class=\"sk-serial\"><div class=\"sk-item\"><div class=\"sk-estimator sk-toggleable\"><input class=\"sk-toggleable__control sk-hidden--visually\" id=\"sk-estimator-id-3\" type=\"checkbox\" ><label for=\"sk-estimator-id-3\" class=\"sk-toggleable__label sk-toggleable__label-arrow\">XGBRegressor</label><div class=\"sk-toggleable__content\"><pre>XGBRegressor(base_score=0.13944292879289957, booster=&#x27;gbtree&#x27;, callbacks=None,\n",
       "             colsample_bylevel=None, colsample_bynode=None,\n",
       "             colsample_bytree=None, early_stopping_rounds=None,\n",
       "             enable_categorical=False, eval_metric=&#x27;poisson-nloglik&#x27;,\n",
       "             feature_types=None, gamma=None, gpu_id=None, grow_policy=None,\n",
       "             importance_type=None, interaction_constraints=None,\n",
       "             learning_rate=0.01, max_bin=None, max_cat_threshold=None,\n",
       "             max_cat_to_onehot=None, max_delta_step=None, max_depth=None,\n",
       "             max_leaves=None, min_child_weight=None, missing=nan,\n",
       "             monotone_constraints=(1, 0, 0, 0, 0, 0, 0, 0, 0), n_estimators=100,\n",
       "             n_jobs=None, num_parallel_tree=None, objective=&#x27;count:poisson&#x27;,\n",
       "             predictor=None, ...)</pre></div></div></div></div></div></div></div></div></div></div>"
      ],
      "text/plain": [
       "RandomizedSearchCV(cv=5,\n",
       "                   estimator=XGBRegressor(base_score=0.13944292879289957,\n",
       "                                          booster='gbtree', callbacks=None,\n",
       "                                          colsample_bylevel=None,\n",
       "                                          colsample_bynode=None,\n",
       "                                          colsample_bytree=None,\n",
       "                                          early_stopping_rounds=None,\n",
       "                                          enable_categorical=False,\n",
       "                                          eval_metric='poisson-nloglik',\n",
       "                                          feature_types=None, gamma=None,\n",
       "                                          gpu_id=None, grow_policy=None,\n",
       "                                          importance_type=None,\n",
       "                                          interaction...\n",
       "                                          monotone_constraints=(1, 0, 0, 0, 0,\n",
       "                                                                0, 0, 0, 0),\n",
       "                                          n_estimators=100, n_jobs=None,\n",
       "                                          num_parallel_tree=None,\n",
       "                                          objective='count:poisson',\n",
       "                                          predictor=None, ...),\n",
       "                   n_iter=2,\n",
       "                   param_distributions={'alpha': [0, 0.1, 1],\n",
       "                                        'colsample_bynode': [0.5, 0.75, 1],\n",
       "                                        'lambda': [0, 0.1, 1],\n",
       "                                        'max_depth': [1, 3, 5, 7, 9],\n",
       "                                        'n_estimators': [100, 200, 300]},\n",
       "                   random_state=54321, scoring='neg_mean_poisson_deviance',\n",
       "                   verbose=1)"
      ]
     },
     "execution_count": 13,
     "metadata": {},
     "output_type": "execute_result"
    }
   ],
   "source": [
    "xgb_randomsearch_freq = RandomizedSearchCV(estimator=xgb_init_freq,\n",
    "                                      param_distributions=param_dict_xgb,\n",
    "                                      scoring='neg_mean_poisson_deviance',\n",
    "                                      n_iter=2,\n",
    "                                      verbose=1,\n",
    "                                      cv=5,\n",
    "                                      random_state = 54321)\n",
    "xgb_randomsearch_freq.fit(X_freq_train, y_freq_train, sample_weight=w_freq_train)"
   ]
  },
  {
   "cell_type": "code",
   "execution_count": 14,
   "id": "c2f0d7cd",
   "metadata": {},
   "outputs": [],
   "source": [
    "xgb_freq = xgb_randomsearch_freq.best_estimator_"
   ]
  },
  {
   "cell_type": "code",
   "execution_count": 15,
   "id": "fd8587f6",
   "metadata": {},
   "outputs": [
    {
     "data": {
      "text/plain": [
       "72599     0.0\n",
       "58458     0.0\n",
       "83259     0.0\n",
       "76224     0.0\n",
       "100734    1.0\n",
       "         ... \n",
       "137548    0.0\n",
       "27986     0.0\n",
       "22571     0.0\n",
       "54614     0.0\n",
       "74832     0.0\n",
       "Length: 130925, dtype: float64"
      ]
     },
     "execution_count": 15,
     "metadata": {},
     "output_type": "execute_result"
    }
   ],
   "source": [
    "y_freq_train"
   ]
  },
  {
   "cell_type": "code",
   "execution_count": 17,
   "id": "6cd5af40",
   "metadata": {},
   "outputs": [
    {
     "data": {
      "text/html": [
       "<div>\n",
       "<style scoped>\n",
       "    .dataframe tbody tr th:only-of-type {\n",
       "        vertical-align: middle;\n",
       "    }\n",
       "\n",
       "    .dataframe tbody tr th {\n",
       "        vertical-align: top;\n",
       "    }\n",
       "\n",
       "    .dataframe thead th {\n",
       "        text-align: right;\n",
       "    }\n",
       "</style>\n",
       "<table border=\"1\" class=\"dataframe\">\n",
       "  <thead>\n",
       "    <tr style=\"text-align: right;\">\n",
       "      <th></th>\n",
       "      <th>AGEPH</th>\n",
       "      <th>CODPOSS</th>\n",
       "      <th>duree</th>\n",
       "      <th>lnexpo</th>\n",
       "      <th>nbrtotc</th>\n",
       "      <th>nbrtotan</th>\n",
       "      <th>chargtot</th>\n",
       "      <th>agecar</th>\n",
       "      <th>sexp</th>\n",
       "      <th>fuelc</th>\n",
       "      <th>...</th>\n",
       "      <th>usec</th>\n",
       "      <th>fleetc</th>\n",
       "      <th>sportc</th>\n",
       "      <th>coverp</th>\n",
       "      <th>powerc</th>\n",
       "      <th>expo</th>\n",
       "      <th>loc_category_0</th>\n",
       "      <th>loc_category_1</th>\n",
       "      <th>loc_category_2</th>\n",
       "      <th>loc_category_3</th>\n",
       "    </tr>\n",
       "  </thead>\n",
       "  <tbody>\n",
       "  </tbody>\n",
       "</table>\n",
       "<p>0 rows × 21 columns</p>\n",
       "</div>"
      ],
      "text/plain": [
       "Empty DataFrame\n",
       "Columns: [AGEPH, CODPOSS, duree, lnexpo, nbrtotc, nbrtotan, chargtot, agecar, sexp, fuelc, split, usec, fleetc, sportc, coverp, powerc, expo, loc_category_0, loc_category_1, loc_category_2, loc_category_3]\n",
       "Index: []\n",
       "\n",
       "[0 rows x 21 columns]"
      ]
     },
     "execution_count": 17,
     "metadata": {},
     "output_type": "execute_result"
    }
   ],
   "source": [
    "data[data['lnexpo'] == 1]"
   ]
  },
  {
   "cell_type": "code",
   "execution_count": 20,
   "id": "60017c20",
   "metadata": {},
   "outputs": [
    {
     "data": {
      "text/plain": [
       "0.26612145390441566"
      ]
     },
     "execution_count": 20,
     "metadata": {},
     "output_type": "execute_result"
    }
   ],
   "source": [
    "from sklearn.metrics import mean_absolute_error\n",
    "\n",
    "pred_freq_train = xgb_freq.predict(X_freq_train)\n",
    "mean_absolute_error(y_freq_train, pred_freq_train)"
   ]
  },
  {
   "cell_type": "markdown",
   "id": "329ffb44",
   "metadata": {},
   "source": [
    "### Test"
   ]
  },
  {
   "cell_type": "code",
   "execution_count": 21,
   "id": "03393718",
   "metadata": {},
   "outputs": [],
   "source": [
    "from sklearn.tree import DecisionTreeRegressor"
   ]
  },
  {
   "cell_type": "code",
   "execution_count": 23,
   "id": "48903798",
   "metadata": {},
   "outputs": [
    {
     "data": {
      "text/html": [
       "<style>#sk-container-id-2 {color: black;background-color: white;}#sk-container-id-2 pre{padding: 0;}#sk-container-id-2 div.sk-toggleable {background-color: white;}#sk-container-id-2 label.sk-toggleable__label {cursor: pointer;display: block;width: 100%;margin-bottom: 0;padding: 0.3em;box-sizing: border-box;text-align: center;}#sk-container-id-2 label.sk-toggleable__label-arrow:before {content: \"▸\";float: left;margin-right: 0.25em;color: #696969;}#sk-container-id-2 label.sk-toggleable__label-arrow:hover:before {color: black;}#sk-container-id-2 div.sk-estimator:hover label.sk-toggleable__label-arrow:before {color: black;}#sk-container-id-2 div.sk-toggleable__content {max-height: 0;max-width: 0;overflow: hidden;text-align: left;background-color: #f0f8ff;}#sk-container-id-2 div.sk-toggleable__content pre {margin: 0.2em;color: black;border-radius: 0.25em;background-color: #f0f8ff;}#sk-container-id-2 input.sk-toggleable__control:checked~div.sk-toggleable__content {max-height: 200px;max-width: 100%;overflow: auto;}#sk-container-id-2 input.sk-toggleable__control:checked~label.sk-toggleable__label-arrow:before {content: \"▾\";}#sk-container-id-2 div.sk-estimator input.sk-toggleable__control:checked~label.sk-toggleable__label {background-color: #d4ebff;}#sk-container-id-2 div.sk-label input.sk-toggleable__control:checked~label.sk-toggleable__label {background-color: #d4ebff;}#sk-container-id-2 input.sk-hidden--visually {border: 0;clip: rect(1px 1px 1px 1px);clip: rect(1px, 1px, 1px, 1px);height: 1px;margin: -1px;overflow: hidden;padding: 0;position: absolute;width: 1px;}#sk-container-id-2 div.sk-estimator {font-family: monospace;background-color: #f0f8ff;border: 1px dotted black;border-radius: 0.25em;box-sizing: border-box;margin-bottom: 0.5em;}#sk-container-id-2 div.sk-estimator:hover {background-color: #d4ebff;}#sk-container-id-2 div.sk-parallel-item::after {content: \"\";width: 100%;border-bottom: 1px solid gray;flex-grow: 1;}#sk-container-id-2 div.sk-label:hover label.sk-toggleable__label {background-color: #d4ebff;}#sk-container-id-2 div.sk-serial::before {content: \"\";position: absolute;border-left: 1px solid gray;box-sizing: border-box;top: 0;bottom: 0;left: 50%;z-index: 0;}#sk-container-id-2 div.sk-serial {display: flex;flex-direction: column;align-items: center;background-color: white;padding-right: 0.2em;padding-left: 0.2em;position: relative;}#sk-container-id-2 div.sk-item {position: relative;z-index: 1;}#sk-container-id-2 div.sk-parallel {display: flex;align-items: stretch;justify-content: center;background-color: white;position: relative;}#sk-container-id-2 div.sk-item::before, #sk-container-id-2 div.sk-parallel-item::before {content: \"\";position: absolute;border-left: 1px solid gray;box-sizing: border-box;top: 0;bottom: 0;left: 50%;z-index: -1;}#sk-container-id-2 div.sk-parallel-item {display: flex;flex-direction: column;z-index: 1;position: relative;background-color: white;}#sk-container-id-2 div.sk-parallel-item:first-child::after {align-self: flex-end;width: 50%;}#sk-container-id-2 div.sk-parallel-item:last-child::after {align-self: flex-start;width: 50%;}#sk-container-id-2 div.sk-parallel-item:only-child::after {width: 0;}#sk-container-id-2 div.sk-dashed-wrapped {border: 1px dashed gray;margin: 0 0.4em 0.5em 0.4em;box-sizing: border-box;padding-bottom: 0.4em;background-color: white;}#sk-container-id-2 div.sk-label label {font-family: monospace;font-weight: bold;display: inline-block;line-height: 1.2em;}#sk-container-id-2 div.sk-label-container {text-align: center;}#sk-container-id-2 div.sk-container {/* jupyter's `normalize.less` sets `[hidden] { display: none; }` but bootstrap.min.css set `[hidden] { display: none !important; }` so we also need the `!important` here to be able to override the default hidden behavior on the sphinx rendered scikit-learn.org. See: https://github.com/scikit-learn/scikit-learn/issues/21755 */display: inline-block !important;position: relative;}#sk-container-id-2 div.sk-text-repr-fallback {display: none;}</style><div id=\"sk-container-id-2\" class=\"sk-top-container\"><div class=\"sk-text-repr-fallback\"><pre>DecisionTreeRegressor(criterion=&#x27;poisson&#x27;, max_depth=10000)</pre><b>In a Jupyter environment, please rerun this cell to show the HTML representation or trust the notebook. <br />On GitHub, the HTML representation is unable to render, please try loading this page with nbviewer.org.</b></div><div class=\"sk-container\" hidden><div class=\"sk-item\"><div class=\"sk-estimator sk-toggleable\"><input class=\"sk-toggleable__control sk-hidden--visually\" id=\"sk-estimator-id-4\" type=\"checkbox\" checked><label for=\"sk-estimator-id-4\" class=\"sk-toggleable__label sk-toggleable__label-arrow\">DecisionTreeRegressor</label><div class=\"sk-toggleable__content\"><pre>DecisionTreeRegressor(criterion=&#x27;poisson&#x27;, max_depth=10000)</pre></div></div></div></div></div>"
      ],
      "text/plain": [
       "DecisionTreeRegressor(criterion='poisson', max_depth=10000)"
      ]
     },
     "execution_count": 23,
     "metadata": {},
     "output_type": "execute_result"
    }
   ],
   "source": [
    "# tree_freq = DecisionTreeRegressor(criterion='poisson', max_depth=2, min_samples_split=10000, min_samples_leaf=5000)\n",
    "y_freq = data['nbrtotc'] / data['expo']\n",
    "X_freq = data[feat_cols]\n",
    "tree_freq = DecisionTreeRegressor(criterion='poisson', max_depth=10000)\n",
    "tree_freq.fit(X=X_freq, y=y_freq)"
   ]
  },
  {
   "cell_type": "code",
   "execution_count": 24,
   "id": "b33ef9ab",
   "metadata": {},
   "outputs": [],
   "source": [
    "tree_freq_pred = tree_freq.predict(X_freq)"
   ]
  },
  {
   "cell_type": "code",
   "execution_count": 27,
   "id": "b3c00c79",
   "metadata": {},
   "outputs": [
    {
     "data": {
      "text/plain": [
       "0.2421159953808138"
      ]
     },
     "execution_count": 27,
     "metadata": {},
     "output_type": "execute_result"
    }
   ],
   "source": [
    "mean_absolute_error(y_freq, tree_freq_pred)"
   ]
  },
  {
   "cell_type": "code",
   "execution_count": 31,
   "id": "69cc176f",
   "metadata": {},
   "outputs": [
    {
     "data": {
      "text/plain": [
       "3181"
      ]
     },
     "execution_count": 31,
     "metadata": {},
     "output_type": "execute_result"
    }
   ],
   "source": [
    "len(np.unique(tree_freq_pred))"
   ]
  },
  {
   "cell_type": "code",
   "execution_count": 36,
   "id": "e7b479f0",
   "metadata": {},
   "outputs": [
    {
     "data": {
      "text/plain": [
       "array([6.63636364, 0.04545455, 0.33333333, 4.62025316, 0.07142857,\n",
       "       0.09090909, 0.14285714, 0.06688657, 0.56459701, 0.40079365])"
      ]
     },
     "execution_count": 36,
     "metadata": {},
     "output_type": "execute_result"
    }
   ],
   "source": [
    "tree_freq_pred[20:30]"
   ]
  },
  {
   "cell_type": "code",
   "execution_count": 37,
   "id": "3e382049",
   "metadata": {},
   "outputs": [
    {
     "data": {
      "text/plain": [
       "20    6.636364\n",
       "21    0.000000\n",
       "22    1.000000\n",
       "23    4.620253\n",
       "24    0.000000\n",
       "25    0.000000\n",
       "26    0.000000\n",
       "27    1.137072\n",
       "28    3.000000\n",
       "29    2.607143\n",
       "dtype: float64"
      ]
     },
     "execution_count": 37,
     "metadata": {},
     "output_type": "execute_result"
    }
   ],
   "source": [
    "y_freq[20:30]"
   ]
  },
  {
   "cell_type": "code",
   "execution_count": null,
   "id": "0e62b106",
   "metadata": {},
   "outputs": [],
   "source": []
  }
 ],
 "metadata": {
  "kernelspec": {
   "display_name": "Python 3 (ipykernel)",
   "language": "python",
   "name": "python3"
  },
  "language_info": {
   "codemirror_mode": {
    "name": "ipython",
    "version": 3
   },
   "file_extension": ".py",
   "mimetype": "text/x-python",
   "name": "python",
   "nbconvert_exporter": "python",
   "pygments_lexer": "ipython3",
   "version": "3.10.4"
  }
 },
 "nbformat": 4,
 "nbformat_minor": 5
}
