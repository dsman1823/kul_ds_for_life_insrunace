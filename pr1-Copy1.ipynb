{
 "cells": [
  {
   "cell_type": "markdown",
   "id": "f7aacc76",
   "metadata": {},
   "source": [
    "## 1 Libraries"
   ]
  },
  {
   "cell_type": "code",
   "execution_count": 1,
   "id": "3b40473e",
   "metadata": {},
   "outputs": [],
   "source": [
    "import pandas as pd\n",
    "import numpy as np\n",
    "import xgboost as xgb\n",
    "import matplotlib.pyplot as plt\n",
    "\n",
    "from sklearn.preprocessing import StandardScaler\n",
    "from sklearn.model_selection import train_test_split, GridSearchCV, RandomizedSearchCV\n",
    "from sklearn.cluster import KMeans\n",
    "from sklearn.inspection import PartialDependenceDisplay"
   ]
  },
  {
   "cell_type": "code",
   "execution_count": 2,
   "id": "cdd8a0fa",
   "metadata": {},
   "outputs": [
    {
     "data": {
      "text/html": [
       "<div>\n",
       "<style scoped>\n",
       "    .dataframe tbody tr th:only-of-type {\n",
       "        vertical-align: middle;\n",
       "    }\n",
       "\n",
       "    .dataframe tbody tr th {\n",
       "        vertical-align: top;\n",
       "    }\n",
       "\n",
       "    .dataframe thead th {\n",
       "        text-align: right;\n",
       "    }\n",
       "</style>\n",
       "<table border=\"1\" class=\"dataframe\">\n",
       "  <thead>\n",
       "    <tr style=\"text-align: right;\">\n",
       "      <th></th>\n",
       "      <th>AGEPH</th>\n",
       "      <th>CODPOSS</th>\n",
       "      <th>duree</th>\n",
       "      <th>lnexpo</th>\n",
       "      <th>nbrtotc</th>\n",
       "      <th>nbrtotan</th>\n",
       "      <th>chargtot</th>\n",
       "      <th>agecar</th>\n",
       "      <th>sexp</th>\n",
       "      <th>fuelc</th>\n",
       "      <th>split</th>\n",
       "      <th>usec</th>\n",
       "      <th>fleetc</th>\n",
       "      <th>sportc</th>\n",
       "      <th>coverp</th>\n",
       "      <th>powerc</th>\n",
       "    </tr>\n",
       "  </thead>\n",
       "  <tbody>\n",
       "    <tr>\n",
       "      <th>0</th>\n",
       "      <td>64</td>\n",
       "      <td>1000</td>\n",
       "      <td>1.000000</td>\n",
       "      <td>0.000000</td>\n",
       "      <td>0</td>\n",
       "      <td>0.000000</td>\n",
       "      <td>0.000000</td>\n",
       "      <td>2-5</td>\n",
       "      <td>Female</td>\n",
       "      <td>Petrol</td>\n",
       "      <td>Once</td>\n",
       "      <td>Private</td>\n",
       "      <td>No</td>\n",
       "      <td>No</td>\n",
       "      <td>MTPL+</td>\n",
       "      <td>66-110</td>\n",
       "    </tr>\n",
       "    <tr>\n",
       "      <th>1</th>\n",
       "      <td>28</td>\n",
       "      <td>1000</td>\n",
       "      <td>0.046575</td>\n",
       "      <td>-3.066684</td>\n",
       "      <td>1</td>\n",
       "      <td>21.470588</td>\n",
       "      <td>155.974606</td>\n",
       "      <td>6-10</td>\n",
       "      <td>Female</td>\n",
       "      <td>Petrol</td>\n",
       "      <td>Twice</td>\n",
       "      <td>Private</td>\n",
       "      <td>No</td>\n",
       "      <td>No</td>\n",
       "      <td>MTPL</td>\n",
       "      <td>66-110</td>\n",
       "    </tr>\n",
       "    <tr>\n",
       "      <th>2</th>\n",
       "      <td>58</td>\n",
       "      <td>1000</td>\n",
       "      <td>0.402740</td>\n",
       "      <td>-0.909465</td>\n",
       "      <td>0</td>\n",
       "      <td>0.000000</td>\n",
       "      <td>0.000000</td>\n",
       "      <td>&gt;10</td>\n",
       "      <td>Female</td>\n",
       "      <td>Petrol</td>\n",
       "      <td>Thrice</td>\n",
       "      <td>Private</td>\n",
       "      <td>No</td>\n",
       "      <td>No</td>\n",
       "      <td>MTPL</td>\n",
       "      <td>&lt;66</td>\n",
       "    </tr>\n",
       "    <tr>\n",
       "      <th>3</th>\n",
       "      <td>37</td>\n",
       "      <td>1030</td>\n",
       "      <td>0.169863</td>\n",
       "      <td>-1.772763</td>\n",
       "      <td>0</td>\n",
       "      <td>0.000000</td>\n",
       "      <td>0.000000</td>\n",
       "      <td>2-5</td>\n",
       "      <td>Female</td>\n",
       "      <td>Petrol</td>\n",
       "      <td>Once</td>\n",
       "      <td>Professional</td>\n",
       "      <td>No</td>\n",
       "      <td>No</td>\n",
       "      <td>MTPL+++</td>\n",
       "      <td>66-110</td>\n",
       "    </tr>\n",
       "    <tr>\n",
       "      <th>4</th>\n",
       "      <td>29</td>\n",
       "      <td>1030</td>\n",
       "      <td>1.000000</td>\n",
       "      <td>0.000000</td>\n",
       "      <td>0</td>\n",
       "      <td>0.000000</td>\n",
       "      <td>0.000000</td>\n",
       "      <td>6-10</td>\n",
       "      <td>Female</td>\n",
       "      <td>Petrol</td>\n",
       "      <td>Once</td>\n",
       "      <td>Private</td>\n",
       "      <td>No</td>\n",
       "      <td>No</td>\n",
       "      <td>MTPL+</td>\n",
       "      <td>&lt;66</td>\n",
       "    </tr>\n",
       "  </tbody>\n",
       "</table>\n",
       "</div>"
      ],
      "text/plain": [
       "   AGEPH  CODPOSS     duree    lnexpo  nbrtotc   nbrtotan    chargtot agecar  \\\n",
       "0     64     1000  1.000000  0.000000        0   0.000000    0.000000    2-5   \n",
       "1     28     1000  0.046575 -3.066684        1  21.470588  155.974606   6-10   \n",
       "2     58     1000  0.402740 -0.909465        0   0.000000    0.000000    >10   \n",
       "3     37     1030  0.169863 -1.772763        0   0.000000    0.000000    2-5   \n",
       "4     29     1030  1.000000  0.000000        0   0.000000    0.000000   6-10   \n",
       "\n",
       "     sexp   fuelc   split          usec fleetc sportc   coverp  powerc  \n",
       "0  Female  Petrol    Once       Private     No     No    MTPL+  66-110  \n",
       "1  Female  Petrol   Twice       Private     No     No     MTPL  66-110  \n",
       "2  Female  Petrol  Thrice       Private     No     No     MTPL     <66  \n",
       "3  Female  Petrol    Once  Professional     No     No  MTPL+++  66-110  \n",
       "4  Female  Petrol    Once       Private     No     No    MTPL+     <66  "
      ]
     },
     "execution_count": 2,
     "metadata": {},
     "output_type": "execute_result"
    }
   ],
   "source": [
    "data = pd.read_csv('Assignment.csv')\n",
    "data.head()"
   ]
  },
  {
   "cell_type": "markdown",
   "id": "a379d492",
   "metadata": {},
   "source": [
    "## 2 Feature engineering\n",
    "\n",
    "In this section:\n",
    "* categorical covariates will be mapped\n",
    "* tranformation of zipcode data to categorical using k nearest neigbours"
   ]
  },
  {
   "cell_type": "markdown",
   "id": "89c054c6",
   "metadata": {},
   "source": [
    "### 2.1 Mapping text columns to categorical\n",
    "\n",
    "The mapping is made to a signle column, and not to a vector, because all the string columns have internal ordering structure."
   ]
  },
  {
   "cell_type": "code",
   "execution_count": 3,
   "id": "46596daf",
   "metadata": {},
   "outputs": [],
   "source": [
    "data['agecar'] =  data['agecar'].map({'0-1': 0, '2-5': 1, '6-10': 2, '>10': 3}) \n",
    "data['sexp'] =  data['sexp'].map({'Female': 0, 'Male':1}) \n",
    "data['fuelc'] = data['fuelc'].map({'Petrol': 0, 'Gasoil': 1})\n",
    "data['split'] = data['split'].map({'Once': 0, 'Twice': 1, 'Thrice': 2, 'Monthly': 3})\n",
    "data['usec'] = data['usec'].map({'Private': 0, 'Professional': 1})\n",
    "data['fleetc'] = data['fleetc'].map({'No': 0, 'Yes': 1})\n",
    "data['sportc'] = data['sportc'].map({'No': 0, 'Yes': 1})\n",
    "data['coverp'] = data['coverp'].map({'MTPL': 0, 'MTPL+': 1, 'MTPL+++': 2})\n",
    "data['powerc'] = data['powerc'].map({'<66': 0, '66-110': 1, '>110': 2})"
   ]
  },
  {
   "cell_type": "markdown",
   "id": "9bfa8c18",
   "metadata": {},
   "source": [
    "### 2.2 Transforming exposure"
   ]
  },
  {
   "cell_type": "code",
   "execution_count": 4,
   "id": "387e4e52",
   "metadata": {},
   "outputs": [],
   "source": [
    "data['expo'] =  data['lnexpo'].apply(np.exp)"
   ]
  },
  {
   "cell_type": "markdown",
   "id": "70d280a1",
   "metadata": {},
   "source": [
    "### 2.3 Handling postal code"
   ]
  },
  {
   "cell_type": "code",
   "execution_count": 5,
   "id": "87dbc903",
   "metadata": {},
   "outputs": [
    {
     "data": {
      "text/html": [
       "<div>\n",
       "<style scoped>\n",
       "    .dataframe tbody tr th:only-of-type {\n",
       "        vertical-align: middle;\n",
       "    }\n",
       "\n",
       "    .dataframe tbody tr th {\n",
       "        vertical-align: top;\n",
       "    }\n",
       "\n",
       "    .dataframe thead th {\n",
       "        text-align: right;\n",
       "    }\n",
       "</style>\n",
       "<table border=\"1\" class=\"dataframe\">\n",
       "  <thead>\n",
       "    <tr style=\"text-align: right;\">\n",
       "      <th></th>\n",
       "      <th>CODPOSS</th>\n",
       "      <th>LAT</th>\n",
       "      <th>LONG</th>\n",
       "    </tr>\n",
       "  </thead>\n",
       "  <tbody>\n",
       "    <tr>\n",
       "      <th>0</th>\n",
       "      <td>1000</td>\n",
       "      <td>50.833333</td>\n",
       "      <td>4.350000</td>\n",
       "    </tr>\n",
       "    <tr>\n",
       "      <th>1</th>\n",
       "      <td>1000</td>\n",
       "      <td>50.833333</td>\n",
       "      <td>4.350000</td>\n",
       "    </tr>\n",
       "    <tr>\n",
       "      <th>2</th>\n",
       "      <td>1000</td>\n",
       "      <td>50.833333</td>\n",
       "      <td>4.350000</td>\n",
       "    </tr>\n",
       "    <tr>\n",
       "      <th>3</th>\n",
       "      <td>1030</td>\n",
       "      <td>50.850000</td>\n",
       "      <td>4.383333</td>\n",
       "    </tr>\n",
       "    <tr>\n",
       "      <th>4</th>\n",
       "      <td>1030</td>\n",
       "      <td>50.850000</td>\n",
       "      <td>4.383333</td>\n",
       "    </tr>\n",
       "  </tbody>\n",
       "</table>\n",
       "</div>"
      ],
      "text/plain": [
       "   CODPOSS        LAT      LONG\n",
       "0     1000  50.833333  4.350000\n",
       "1     1000  50.833333  4.350000\n",
       "2     1000  50.833333  4.350000\n",
       "3     1030  50.850000  4.383333\n",
       "4     1030  50.850000  4.383333"
      ]
     },
     "execution_count": 5,
     "metadata": {},
     "output_type": "execute_result"
    }
   ],
   "source": [
    "geo_data =  pd.read_excel('inspost.xls')\n",
    "df1 = data[['CODPOSS']]\n",
    "df2 = geo_data[['CODPOSS', 'LAT', 'LONG']]\n",
    "mapped_geodata = pd.merge(df1, df2, on='CODPOSS', how='left')\n",
    "\n",
    "mapped_geodata.head()"
   ]
  },
  {
   "cell_type": "markdown",
   "id": "73fbe9b6",
   "metadata": {},
   "source": [
    "#### 2.3.1 Clustering of the datapoints\n",
    "\n",
    "The idea is to divide the data into categories, which a close in location (LAT and LONG) and in loss per exposure. \n",
    "\n",
    "Since the categories can't be ordered, one-hot encoding approach is used to transform the clusters intor vectors"
   ]
  },
  {
   "cell_type": "code",
   "execution_count": 6,
   "id": "472ab024",
   "metadata": {},
   "outputs": [
    {
     "name": "stderr",
     "output_type": "stream",
     "text": [
      "C:\\Users\\seidm\\anaconda3\\envs\\dsei\\lib\\site-packages\\sklearn\\cluster\\_kmeans.py:870: FutureWarning: The default value of `n_init` will change from 10 to 'auto' in 1.4. Set the value of `n_init` explicitly to suppress the warning\n",
      "  warnings.warn(\n"
     ]
    }
   ],
   "source": [
    "clustering_df = pd.DataFrame({\n",
    "    'LAT': mapped_geodata['LAT'],\n",
    "    'LONG': mapped_geodata['LONG'],\n",
    "    'loss': data['chargtot'] / data['expo'] # Proxy to the technical premium\n",
    "})\n",
    "\n",
    "X_scaled = StandardScaler().fit_transform(clustering_df[['LAT', 'LONG', 'loss']])\n",
    "\n",
    "N_CLUSTERS = 4\n",
    "kmeans = KMeans(n_clusters=N_CLUSTERS)\n",
    "kmeans.fit(X_scaled)\n",
    "\n",
    "ONE_HOT_PREFIX = 'loc_category'\n",
    "ONE_HOT_SEP = '_'\n",
    "one_hot = pd.get_dummies(kmeans.labels_, prefix=ONE_HOT_PREFIX, prefix_sep=ONE_HOT_SEP)\n",
    "\n",
    "data = pd.concat([data, one_hot], axis=1)\n"
   ]
  },
  {
   "cell_type": "code",
   "execution_count": 7,
   "id": "8003162c",
   "metadata": {
    "scrolled": true
   },
   "outputs": [
    {
     "data": {
      "text/html": [
       "<div>\n",
       "<style scoped>\n",
       "    .dataframe tbody tr th:only-of-type {\n",
       "        vertical-align: middle;\n",
       "    }\n",
       "\n",
       "    .dataframe tbody tr th {\n",
       "        vertical-align: top;\n",
       "    }\n",
       "\n",
       "    .dataframe thead th {\n",
       "        text-align: right;\n",
       "    }\n",
       "</style>\n",
       "<table border=\"1\" class=\"dataframe\">\n",
       "  <thead>\n",
       "    <tr style=\"text-align: right;\">\n",
       "      <th></th>\n",
       "      <th>AGEPH</th>\n",
       "      <th>CODPOSS</th>\n",
       "      <th>duree</th>\n",
       "      <th>lnexpo</th>\n",
       "      <th>nbrtotc</th>\n",
       "      <th>nbrtotan</th>\n",
       "      <th>chargtot</th>\n",
       "      <th>agecar</th>\n",
       "      <th>sexp</th>\n",
       "      <th>fuelc</th>\n",
       "      <th>...</th>\n",
       "      <th>usec</th>\n",
       "      <th>fleetc</th>\n",
       "      <th>sportc</th>\n",
       "      <th>coverp</th>\n",
       "      <th>powerc</th>\n",
       "      <th>expo</th>\n",
       "      <th>loc_category_0</th>\n",
       "      <th>loc_category_1</th>\n",
       "      <th>loc_category_2</th>\n",
       "      <th>loc_category_3</th>\n",
       "    </tr>\n",
       "  </thead>\n",
       "  <tbody>\n",
       "    <tr>\n",
       "      <th>0</th>\n",
       "      <td>64</td>\n",
       "      <td>1000</td>\n",
       "      <td>1.000000</td>\n",
       "      <td>0.000000</td>\n",
       "      <td>0</td>\n",
       "      <td>0.000000</td>\n",
       "      <td>0.000000</td>\n",
       "      <td>1</td>\n",
       "      <td>0</td>\n",
       "      <td>0</td>\n",
       "      <td>...</td>\n",
       "      <td>0</td>\n",
       "      <td>0</td>\n",
       "      <td>0</td>\n",
       "      <td>1</td>\n",
       "      <td>1</td>\n",
       "      <td>1.000000</td>\n",
       "      <td>0</td>\n",
       "      <td>0</td>\n",
       "      <td>1</td>\n",
       "      <td>0</td>\n",
       "    </tr>\n",
       "    <tr>\n",
       "      <th>1</th>\n",
       "      <td>28</td>\n",
       "      <td>1000</td>\n",
       "      <td>0.046575</td>\n",
       "      <td>-3.066684</td>\n",
       "      <td>1</td>\n",
       "      <td>21.470588</td>\n",
       "      <td>155.974606</td>\n",
       "      <td>2</td>\n",
       "      <td>0</td>\n",
       "      <td>0</td>\n",
       "      <td>...</td>\n",
       "      <td>0</td>\n",
       "      <td>0</td>\n",
       "      <td>0</td>\n",
       "      <td>0</td>\n",
       "      <td>1</td>\n",
       "      <td>0.046575</td>\n",
       "      <td>0</td>\n",
       "      <td>0</td>\n",
       "      <td>1</td>\n",
       "      <td>0</td>\n",
       "    </tr>\n",
       "    <tr>\n",
       "      <th>2</th>\n",
       "      <td>58</td>\n",
       "      <td>1000</td>\n",
       "      <td>0.402740</td>\n",
       "      <td>-0.909465</td>\n",
       "      <td>0</td>\n",
       "      <td>0.000000</td>\n",
       "      <td>0.000000</td>\n",
       "      <td>3</td>\n",
       "      <td>0</td>\n",
       "      <td>0</td>\n",
       "      <td>...</td>\n",
       "      <td>0</td>\n",
       "      <td>0</td>\n",
       "      <td>0</td>\n",
       "      <td>0</td>\n",
       "      <td>0</td>\n",
       "      <td>0.402740</td>\n",
       "      <td>0</td>\n",
       "      <td>0</td>\n",
       "      <td>1</td>\n",
       "      <td>0</td>\n",
       "    </tr>\n",
       "    <tr>\n",
       "      <th>3</th>\n",
       "      <td>37</td>\n",
       "      <td>1030</td>\n",
       "      <td>0.169863</td>\n",
       "      <td>-1.772763</td>\n",
       "      <td>0</td>\n",
       "      <td>0.000000</td>\n",
       "      <td>0.000000</td>\n",
       "      <td>1</td>\n",
       "      <td>0</td>\n",
       "      <td>0</td>\n",
       "      <td>...</td>\n",
       "      <td>1</td>\n",
       "      <td>0</td>\n",
       "      <td>0</td>\n",
       "      <td>2</td>\n",
       "      <td>1</td>\n",
       "      <td>0.169863</td>\n",
       "      <td>0</td>\n",
       "      <td>0</td>\n",
       "      <td>1</td>\n",
       "      <td>0</td>\n",
       "    </tr>\n",
       "    <tr>\n",
       "      <th>4</th>\n",
       "      <td>29</td>\n",
       "      <td>1030</td>\n",
       "      <td>1.000000</td>\n",
       "      <td>0.000000</td>\n",
       "      <td>0</td>\n",
       "      <td>0.000000</td>\n",
       "      <td>0.000000</td>\n",
       "      <td>2</td>\n",
       "      <td>0</td>\n",
       "      <td>0</td>\n",
       "      <td>...</td>\n",
       "      <td>0</td>\n",
       "      <td>0</td>\n",
       "      <td>0</td>\n",
       "      <td>1</td>\n",
       "      <td>0</td>\n",
       "      <td>1.000000</td>\n",
       "      <td>0</td>\n",
       "      <td>0</td>\n",
       "      <td>1</td>\n",
       "      <td>0</td>\n",
       "    </tr>\n",
       "    <tr>\n",
       "      <th>...</th>\n",
       "      <td>...</td>\n",
       "      <td>...</td>\n",
       "      <td>...</td>\n",
       "      <td>...</td>\n",
       "      <td>...</td>\n",
       "      <td>...</td>\n",
       "      <td>...</td>\n",
       "      <td>...</td>\n",
       "      <td>...</td>\n",
       "      <td>...</td>\n",
       "      <td>...</td>\n",
       "      <td>...</td>\n",
       "      <td>...</td>\n",
       "      <td>...</td>\n",
       "      <td>...</td>\n",
       "      <td>...</td>\n",
       "      <td>...</td>\n",
       "      <td>...</td>\n",
       "      <td>...</td>\n",
       "      <td>...</td>\n",
       "      <td>...</td>\n",
       "    </tr>\n",
       "    <tr>\n",
       "      <th>163652</th>\n",
       "      <td>50</td>\n",
       "      <td>9960</td>\n",
       "      <td>1.000000</td>\n",
       "      <td>0.000000</td>\n",
       "      <td>0</td>\n",
       "      <td>0.000000</td>\n",
       "      <td>0.000000</td>\n",
       "      <td>1</td>\n",
       "      <td>1</td>\n",
       "      <td>0</td>\n",
       "      <td>...</td>\n",
       "      <td>0</td>\n",
       "      <td>0</td>\n",
       "      <td>0</td>\n",
       "      <td>1</td>\n",
       "      <td>0</td>\n",
       "      <td>1.000000</td>\n",
       "      <td>0</td>\n",
       "      <td>0</td>\n",
       "      <td>1</td>\n",
       "      <td>0</td>\n",
       "    </tr>\n",
       "    <tr>\n",
       "      <th>163653</th>\n",
       "      <td>86</td>\n",
       "      <td>9960</td>\n",
       "      <td>1.000000</td>\n",
       "      <td>0.000000</td>\n",
       "      <td>0</td>\n",
       "      <td>0.000000</td>\n",
       "      <td>0.000000</td>\n",
       "      <td>2</td>\n",
       "      <td>1</td>\n",
       "      <td>0</td>\n",
       "      <td>...</td>\n",
       "      <td>0</td>\n",
       "      <td>0</td>\n",
       "      <td>0</td>\n",
       "      <td>0</td>\n",
       "      <td>0</td>\n",
       "      <td>1.000000</td>\n",
       "      <td>0</td>\n",
       "      <td>0</td>\n",
       "      <td>1</td>\n",
       "      <td>0</td>\n",
       "    </tr>\n",
       "    <tr>\n",
       "      <th>163654</th>\n",
       "      <td>64</td>\n",
       "      <td>9960</td>\n",
       "      <td>1.000000</td>\n",
       "      <td>0.000000</td>\n",
       "      <td>0</td>\n",
       "      <td>0.000000</td>\n",
       "      <td>0.000000</td>\n",
       "      <td>1</td>\n",
       "      <td>1</td>\n",
       "      <td>0</td>\n",
       "      <td>...</td>\n",
       "      <td>0</td>\n",
       "      <td>0</td>\n",
       "      <td>0</td>\n",
       "      <td>0</td>\n",
       "      <td>0</td>\n",
       "      <td>1.000000</td>\n",
       "      <td>0</td>\n",
       "      <td>0</td>\n",
       "      <td>1</td>\n",
       "      <td>0</td>\n",
       "    </tr>\n",
       "    <tr>\n",
       "      <th>163655</th>\n",
       "      <td>58</td>\n",
       "      <td>9970</td>\n",
       "      <td>1.000000</td>\n",
       "      <td>0.000000</td>\n",
       "      <td>1</td>\n",
       "      <td>1.000000</td>\n",
       "      <td>3177.994988</td>\n",
       "      <td>3</td>\n",
       "      <td>1</td>\n",
       "      <td>0</td>\n",
       "      <td>...</td>\n",
       "      <td>0</td>\n",
       "      <td>1</td>\n",
       "      <td>0</td>\n",
       "      <td>0</td>\n",
       "      <td>0</td>\n",
       "      <td>1.000000</td>\n",
       "      <td>0</td>\n",
       "      <td>0</td>\n",
       "      <td>1</td>\n",
       "      <td>0</td>\n",
       "    </tr>\n",
       "    <tr>\n",
       "      <th>163656</th>\n",
       "      <td>24</td>\n",
       "      <td>9990</td>\n",
       "      <td>1.000000</td>\n",
       "      <td>0.000000</td>\n",
       "      <td>2</td>\n",
       "      <td>2.000000</td>\n",
       "      <td>13818.229594</td>\n",
       "      <td>1</td>\n",
       "      <td>1</td>\n",
       "      <td>0</td>\n",
       "      <td>...</td>\n",
       "      <td>0</td>\n",
       "      <td>0</td>\n",
       "      <td>0</td>\n",
       "      <td>2</td>\n",
       "      <td>0</td>\n",
       "      <td>1.000000</td>\n",
       "      <td>0</td>\n",
       "      <td>0</td>\n",
       "      <td>1</td>\n",
       "      <td>0</td>\n",
       "    </tr>\n",
       "  </tbody>\n",
       "</table>\n",
       "<p>163657 rows × 21 columns</p>\n",
       "</div>"
      ],
      "text/plain": [
       "        AGEPH  CODPOSS     duree    lnexpo  nbrtotc   nbrtotan      chargtot  \\\n",
       "0          64     1000  1.000000  0.000000        0   0.000000      0.000000   \n",
       "1          28     1000  0.046575 -3.066684        1  21.470588    155.974606   \n",
       "2          58     1000  0.402740 -0.909465        0   0.000000      0.000000   \n",
       "3          37     1030  0.169863 -1.772763        0   0.000000      0.000000   \n",
       "4          29     1030  1.000000  0.000000        0   0.000000      0.000000   \n",
       "...       ...      ...       ...       ...      ...        ...           ...   \n",
       "163652     50     9960  1.000000  0.000000        0   0.000000      0.000000   \n",
       "163653     86     9960  1.000000  0.000000        0   0.000000      0.000000   \n",
       "163654     64     9960  1.000000  0.000000        0   0.000000      0.000000   \n",
       "163655     58     9970  1.000000  0.000000        1   1.000000   3177.994988   \n",
       "163656     24     9990  1.000000  0.000000        2   2.000000  13818.229594   \n",
       "\n",
       "        agecar  sexp  fuelc  ...  usec  fleetc  sportc  coverp  powerc  \\\n",
       "0            1     0      0  ...     0       0       0       1       1   \n",
       "1            2     0      0  ...     0       0       0       0       1   \n",
       "2            3     0      0  ...     0       0       0       0       0   \n",
       "3            1     0      0  ...     1       0       0       2       1   \n",
       "4            2     0      0  ...     0       0       0       1       0   \n",
       "...        ...   ...    ...  ...   ...     ...     ...     ...     ...   \n",
       "163652       1     1      0  ...     0       0       0       1       0   \n",
       "163653       2     1      0  ...     0       0       0       0       0   \n",
       "163654       1     1      0  ...     0       0       0       0       0   \n",
       "163655       3     1      0  ...     0       1       0       0       0   \n",
       "163656       1     1      0  ...     0       0       0       2       0   \n",
       "\n",
       "            expo  loc_category_0  loc_category_1  loc_category_2  \\\n",
       "0       1.000000               0               0               1   \n",
       "1       0.046575               0               0               1   \n",
       "2       0.402740               0               0               1   \n",
       "3       0.169863               0               0               1   \n",
       "4       1.000000               0               0               1   \n",
       "...          ...             ...             ...             ...   \n",
       "163652  1.000000               0               0               1   \n",
       "163653  1.000000               0               0               1   \n",
       "163654  1.000000               0               0               1   \n",
       "163655  1.000000               0               0               1   \n",
       "163656  1.000000               0               0               1   \n",
       "\n",
       "        loc_category_3  \n",
       "0                    0  \n",
       "1                    0  \n",
       "2                    0  \n",
       "3                    0  \n",
       "4                    0  \n",
       "...                ...  \n",
       "163652               0  \n",
       "163653               0  \n",
       "163654               0  \n",
       "163655               0  \n",
       "163656               0  \n",
       "\n",
       "[163657 rows x 21 columns]"
      ]
     },
     "execution_count": 7,
     "metadata": {},
     "output_type": "execute_result"
    }
   ],
   "source": [
    "data"
   ]
  },
  {
   "cell_type": "markdown",
   "id": "12bb5475",
   "metadata": {},
   "source": [
    "### 2.4 Feature columns"
   ]
  },
  {
   "cell_type": "code",
   "execution_count": 8,
   "id": "a115c8ce",
   "metadata": {},
   "outputs": [],
   "source": [
    "feat_cols = ['agecar','sexp','fuelc','split','usec','fleetc','sportc','coverp', 'powerc', 'AGEPH'] + [\n",
    "    f'{ONE_HOT_PREFIX}{ONE_HOT_SEP}{i}' for i in range(N_CLUSTERS)\n",
    "]\n",
    "\n",
    "categorical_feat_cols = list(set(feat_cols) - set(['AGEPH']))"
   ]
  },
  {
   "cell_type": "markdown",
   "id": "dde5217b",
   "metadata": {},
   "source": [
    "### 2.5 Train-test split\n",
    "\n",
    "To avoid disbalance in the data the split was stratified to $nbrtotc>0$. "
   ]
  },
  {
   "cell_type": "code",
   "execution_count": 9,
   "id": "a52459d0",
   "metadata": {},
   "outputs": [],
   "source": [
    "X = data[feat_cols].copy()\n",
    "#X['claims_pistive'] = data['nbrtotc'] > 0\n",
    "y = data[['nbrtotc', 'chargtot', 'expo']]\n",
    "\n",
    "X_train, X_test, y_train, y_test = train_test_split(X, y, test_size=0.2, stratify=data['nbrtotc'] > 0, random_state=42)"
   ]
  },
  {
   "cell_type": "markdown",
   "id": "8a27a80c",
   "metadata": {},
   "source": [
    "## 3 XGBoost"
   ]
  },
  {
   "cell_type": "code",
   "execution_count": 10,
   "id": "5f26f830",
   "metadata": {},
   "outputs": [],
   "source": [
    "def get_feat_importance(tree_based_alg, X):\n",
    "\n",
    "    # Get the feature importances\n",
    "    importances = tree_based_alg.feature_importances_\n",
    "\n",
    "    # Create a dataframe to store the feature importances\n",
    "    feature_importances = pd.DataFrame({'feature': X.columns, 'importance': importances})\n",
    "\n",
    "    # Sort the dataframe by importance\n",
    "    feature_importances = feature_importances.sort_values(by='importance', ascending=False)\n",
    "\n",
    "\n",
    "    plt.figure(figsize=(10, 6))\n",
    "\n",
    "    # Plot the feature importances\n",
    "    plt.bar(feature_importances['feature'], feature_importances['importance'])\n",
    "    plt.xticks(rotation=90)\n",
    "    plt.xlabel('Feature')\n",
    "    plt.ylabel('Importance')\n",
    "    plt.title('Feature Importance')\n",
    "    plt.show()\n",
    "    \n",
    "    return pd.DataFrame(\n",
    "        {\n",
    "            'feature':tree_based_alg.feature_names_in_, \n",
    "            'importance':tree_based_alg.feature_importances_\n",
    "        }\n",
    "    ).sort_values('importance', ascending=False)"
   ]
  },
  {
   "cell_type": "markdown",
   "id": "537e8def",
   "metadata": {},
   "source": [
    "### 3.1 Frequency prediction"
   ]
  },
  {
   "cell_type": "code",
   "execution_count": 11,
   "id": "119af77f",
   "metadata": {},
   "outputs": [],
   "source": [
    "X_freq_train = X_train.copy()\n",
    "y_freq_train = y_train['nbrtotc'] / y_train['expo']\n",
    "w_freq_train = y_train['expo']"
   ]
  },
  {
   "cell_type": "markdown",
   "id": "20e6c11b",
   "metadata": {},
   "source": [
    "#### 3.1.1 Mode building"
   ]
  },
  {
   "cell_type": "code",
   "execution_count": 12,
   "id": "87827870",
   "metadata": {},
   "outputs": [],
   "source": [
    "param_dict_xgb = {'max_depth' : [1, 3, 5, 7, 9],\n",
    "              'n_estimators' : [100, 200, 300],\n",
    "              'colsample_bynode' : [0.5, 0.75, 1],\n",
    "              'lambda' : [0, 0.1, 1],\n",
    "              'alpha' : [0, 0.1, 1]}\n",
    "\n",
    "xgb_init_freq = xgb.XGBRegressor(booster='gbtree',\n",
    "                            learning_rate = 0.01,\n",
    "                            objective='count:poisson',\n",
    "                            eval_metric = 'poisson-nloglik',\n",
    "                            monotone_constraints = (1,0,0,0,0,0,0,0,0),\n",
    "                            base_score = np.sum(y_freq_train * w_freq_train)/np.sum(w_freq_train))"
   ]
  },
  {
   "cell_type": "code",
   "execution_count": 13,
   "id": "4e3f33b8",
   "metadata": {
    "scrolled": true
   },
   "outputs": [
    {
     "name": "stdout",
     "output_type": "stream",
     "text": [
      "Fitting 5 folds for each of 2 candidates, totalling 10 fits\n"
     ]
    },
    {
     "data": {
      "text/html": [
       "<style>#sk-container-id-1 {color: black;background-color: white;}#sk-container-id-1 pre{padding: 0;}#sk-container-id-1 div.sk-toggleable {background-color: white;}#sk-container-id-1 label.sk-toggleable__label {cursor: pointer;display: block;width: 100%;margin-bottom: 0;padding: 0.3em;box-sizing: border-box;text-align: center;}#sk-container-id-1 label.sk-toggleable__label-arrow:before {content: \"▸\";float: left;margin-right: 0.25em;color: #696969;}#sk-container-id-1 label.sk-toggleable__label-arrow:hover:before {color: black;}#sk-container-id-1 div.sk-estimator:hover label.sk-toggleable__label-arrow:before {color: black;}#sk-container-id-1 div.sk-toggleable__content {max-height: 0;max-width: 0;overflow: hidden;text-align: left;background-color: #f0f8ff;}#sk-container-id-1 div.sk-toggleable__content pre {margin: 0.2em;color: black;border-radius: 0.25em;background-color: #f0f8ff;}#sk-container-id-1 input.sk-toggleable__control:checked~div.sk-toggleable__content {max-height: 200px;max-width: 100%;overflow: auto;}#sk-container-id-1 input.sk-toggleable__control:checked~label.sk-toggleable__label-arrow:before {content: \"▾\";}#sk-container-id-1 div.sk-estimator input.sk-toggleable__control:checked~label.sk-toggleable__label {background-color: #d4ebff;}#sk-container-id-1 div.sk-label input.sk-toggleable__control:checked~label.sk-toggleable__label {background-color: #d4ebff;}#sk-container-id-1 input.sk-hidden--visually {border: 0;clip: rect(1px 1px 1px 1px);clip: rect(1px, 1px, 1px, 1px);height: 1px;margin: -1px;overflow: hidden;padding: 0;position: absolute;width: 1px;}#sk-container-id-1 div.sk-estimator {font-family: monospace;background-color: #f0f8ff;border: 1px dotted black;border-radius: 0.25em;box-sizing: border-box;margin-bottom: 0.5em;}#sk-container-id-1 div.sk-estimator:hover {background-color: #d4ebff;}#sk-container-id-1 div.sk-parallel-item::after {content: \"\";width: 100%;border-bottom: 1px solid gray;flex-grow: 1;}#sk-container-id-1 div.sk-label:hover label.sk-toggleable__label {background-color: #d4ebff;}#sk-container-id-1 div.sk-serial::before {content: \"\";position: absolute;border-left: 1px solid gray;box-sizing: border-box;top: 0;bottom: 0;left: 50%;z-index: 0;}#sk-container-id-1 div.sk-serial {display: flex;flex-direction: column;align-items: center;background-color: white;padding-right: 0.2em;padding-left: 0.2em;position: relative;}#sk-container-id-1 div.sk-item {position: relative;z-index: 1;}#sk-container-id-1 div.sk-parallel {display: flex;align-items: stretch;justify-content: center;background-color: white;position: relative;}#sk-container-id-1 div.sk-item::before, #sk-container-id-1 div.sk-parallel-item::before {content: \"\";position: absolute;border-left: 1px solid gray;box-sizing: border-box;top: 0;bottom: 0;left: 50%;z-index: -1;}#sk-container-id-1 div.sk-parallel-item {display: flex;flex-direction: column;z-index: 1;position: relative;background-color: white;}#sk-container-id-1 div.sk-parallel-item:first-child::after {align-self: flex-end;width: 50%;}#sk-container-id-1 div.sk-parallel-item:last-child::after {align-self: flex-start;width: 50%;}#sk-container-id-1 div.sk-parallel-item:only-child::after {width: 0;}#sk-container-id-1 div.sk-dashed-wrapped {border: 1px dashed gray;margin: 0 0.4em 0.5em 0.4em;box-sizing: border-box;padding-bottom: 0.4em;background-color: white;}#sk-container-id-1 div.sk-label label {font-family: monospace;font-weight: bold;display: inline-block;line-height: 1.2em;}#sk-container-id-1 div.sk-label-container {text-align: center;}#sk-container-id-1 div.sk-container {/* jupyter's `normalize.less` sets `[hidden] { display: none; }` but bootstrap.min.css set `[hidden] { display: none !important; }` so we also need the `!important` here to be able to override the default hidden behavior on the sphinx rendered scikit-learn.org. See: https://github.com/scikit-learn/scikit-learn/issues/21755 */display: inline-block !important;position: relative;}#sk-container-id-1 div.sk-text-repr-fallback {display: none;}</style><div id=\"sk-container-id-1\" class=\"sk-top-container\"><div class=\"sk-text-repr-fallback\"><pre>RandomizedSearchCV(cv=5,\n",
       "                   estimator=XGBRegressor(base_score=0.13944292879289957,\n",
       "                                          booster=&#x27;gbtree&#x27;, callbacks=None,\n",
       "                                          colsample_bylevel=None,\n",
       "                                          colsample_bynode=None,\n",
       "                                          colsample_bytree=None,\n",
       "                                          early_stopping_rounds=None,\n",
       "                                          enable_categorical=False,\n",
       "                                          eval_metric=&#x27;poisson-nloglik&#x27;,\n",
       "                                          feature_types=None, gamma=None,\n",
       "                                          gpu_id=None, grow_policy=None,\n",
       "                                          importance_type=None,\n",
       "                                          interaction...\n",
       "                                          monotone_constraints=(1, 0, 0, 0, 0,\n",
       "                                                                0, 0, 0, 0),\n",
       "                                          n_estimators=100, n_jobs=None,\n",
       "                                          num_parallel_tree=None,\n",
       "                                          objective=&#x27;count:poisson&#x27;,\n",
       "                                          predictor=None, ...),\n",
       "                   n_iter=2,\n",
       "                   param_distributions={&#x27;alpha&#x27;: [0, 0.1, 1],\n",
       "                                        &#x27;colsample_bynode&#x27;: [0.5, 0.75, 1],\n",
       "                                        &#x27;lambda&#x27;: [0, 0.1, 1],\n",
       "                                        &#x27;max_depth&#x27;: [1, 3, 5, 7, 9],\n",
       "                                        &#x27;n_estimators&#x27;: [100, 200, 300]},\n",
       "                   random_state=54321, scoring=&#x27;neg_mean_poisson_deviance&#x27;,\n",
       "                   verbose=1)</pre><b>In a Jupyter environment, please rerun this cell to show the HTML representation or trust the notebook. <br />On GitHub, the HTML representation is unable to render, please try loading this page with nbviewer.org.</b></div><div class=\"sk-container\" hidden><div class=\"sk-item sk-dashed-wrapped\"><div class=\"sk-label-container\"><div class=\"sk-label sk-toggleable\"><input class=\"sk-toggleable__control sk-hidden--visually\" id=\"sk-estimator-id-1\" type=\"checkbox\" ><label for=\"sk-estimator-id-1\" class=\"sk-toggleable__label sk-toggleable__label-arrow\">RandomizedSearchCV</label><div class=\"sk-toggleable__content\"><pre>RandomizedSearchCV(cv=5,\n",
       "                   estimator=XGBRegressor(base_score=0.13944292879289957,\n",
       "                                          booster=&#x27;gbtree&#x27;, callbacks=None,\n",
       "                                          colsample_bylevel=None,\n",
       "                                          colsample_bynode=None,\n",
       "                                          colsample_bytree=None,\n",
       "                                          early_stopping_rounds=None,\n",
       "                                          enable_categorical=False,\n",
       "                                          eval_metric=&#x27;poisson-nloglik&#x27;,\n",
       "                                          feature_types=None, gamma=None,\n",
       "                                          gpu_id=None, grow_policy=None,\n",
       "                                          importance_type=None,\n",
       "                                          interaction...\n",
       "                                          monotone_constraints=(1, 0, 0, 0, 0,\n",
       "                                                                0, 0, 0, 0),\n",
       "                                          n_estimators=100, n_jobs=None,\n",
       "                                          num_parallel_tree=None,\n",
       "                                          objective=&#x27;count:poisson&#x27;,\n",
       "                                          predictor=None, ...),\n",
       "                   n_iter=2,\n",
       "                   param_distributions={&#x27;alpha&#x27;: [0, 0.1, 1],\n",
       "                                        &#x27;colsample_bynode&#x27;: [0.5, 0.75, 1],\n",
       "                                        &#x27;lambda&#x27;: [0, 0.1, 1],\n",
       "                                        &#x27;max_depth&#x27;: [1, 3, 5, 7, 9],\n",
       "                                        &#x27;n_estimators&#x27;: [100, 200, 300]},\n",
       "                   random_state=54321, scoring=&#x27;neg_mean_poisson_deviance&#x27;,\n",
       "                   verbose=1)</pre></div></div></div><div class=\"sk-parallel\"><div class=\"sk-parallel-item\"><div class=\"sk-item\"><div class=\"sk-label-container\"><div class=\"sk-label sk-toggleable\"><input class=\"sk-toggleable__control sk-hidden--visually\" id=\"sk-estimator-id-2\" type=\"checkbox\" ><label for=\"sk-estimator-id-2\" class=\"sk-toggleable__label sk-toggleable__label-arrow\">estimator: XGBRegressor</label><div class=\"sk-toggleable__content\"><pre>XGBRegressor(base_score=0.13944292879289957, booster=&#x27;gbtree&#x27;, callbacks=None,\n",
       "             colsample_bylevel=None, colsample_bynode=None,\n",
       "             colsample_bytree=None, early_stopping_rounds=None,\n",
       "             enable_categorical=False, eval_metric=&#x27;poisson-nloglik&#x27;,\n",
       "             feature_types=None, gamma=None, gpu_id=None, grow_policy=None,\n",
       "             importance_type=None, interaction_constraints=None,\n",
       "             learning_rate=0.01, max_bin=None, max_cat_threshold=None,\n",
       "             max_cat_to_onehot=None, max_delta_step=None, max_depth=None,\n",
       "             max_leaves=None, min_child_weight=None, missing=nan,\n",
       "             monotone_constraints=(1, 0, 0, 0, 0, 0, 0, 0, 0), n_estimators=100,\n",
       "             n_jobs=None, num_parallel_tree=None, objective=&#x27;count:poisson&#x27;,\n",
       "             predictor=None, ...)</pre></div></div></div><div class=\"sk-serial\"><div class=\"sk-item\"><div class=\"sk-estimator sk-toggleable\"><input class=\"sk-toggleable__control sk-hidden--visually\" id=\"sk-estimator-id-3\" type=\"checkbox\" ><label for=\"sk-estimator-id-3\" class=\"sk-toggleable__label sk-toggleable__label-arrow\">XGBRegressor</label><div class=\"sk-toggleable__content\"><pre>XGBRegressor(base_score=0.13944292879289957, booster=&#x27;gbtree&#x27;, callbacks=None,\n",
       "             colsample_bylevel=None, colsample_bynode=None,\n",
       "             colsample_bytree=None, early_stopping_rounds=None,\n",
       "             enable_categorical=False, eval_metric=&#x27;poisson-nloglik&#x27;,\n",
       "             feature_types=None, gamma=None, gpu_id=None, grow_policy=None,\n",
       "             importance_type=None, interaction_constraints=None,\n",
       "             learning_rate=0.01, max_bin=None, max_cat_threshold=None,\n",
       "             max_cat_to_onehot=None, max_delta_step=None, max_depth=None,\n",
       "             max_leaves=None, min_child_weight=None, missing=nan,\n",
       "             monotone_constraints=(1, 0, 0, 0, 0, 0, 0, 0, 0), n_estimators=100,\n",
       "             n_jobs=None, num_parallel_tree=None, objective=&#x27;count:poisson&#x27;,\n",
       "             predictor=None, ...)</pre></div></div></div></div></div></div></div></div></div></div>"
      ],
      "text/plain": [
       "RandomizedSearchCV(cv=5,\n",
       "                   estimator=XGBRegressor(base_score=0.13944292879289957,\n",
       "                                          booster='gbtree', callbacks=None,\n",
       "                                          colsample_bylevel=None,\n",
       "                                          colsample_bynode=None,\n",
       "                                          colsample_bytree=None,\n",
       "                                          early_stopping_rounds=None,\n",
       "                                          enable_categorical=False,\n",
       "                                          eval_metric='poisson-nloglik',\n",
       "                                          feature_types=None, gamma=None,\n",
       "                                          gpu_id=None, grow_policy=None,\n",
       "                                          importance_type=None,\n",
       "                                          interaction...\n",
       "                                          monotone_constraints=(1, 0, 0, 0, 0,\n",
       "                                                                0, 0, 0, 0),\n",
       "                                          n_estimators=100, n_jobs=None,\n",
       "                                          num_parallel_tree=None,\n",
       "                                          objective='count:poisson',\n",
       "                                          predictor=None, ...),\n",
       "                   n_iter=2,\n",
       "                   param_distributions={'alpha': [0, 0.1, 1],\n",
       "                                        'colsample_bynode': [0.5, 0.75, 1],\n",
       "                                        'lambda': [0, 0.1, 1],\n",
       "                                        'max_depth': [1, 3, 5, 7, 9],\n",
       "                                        'n_estimators': [100, 200, 300]},\n",
       "                   random_state=54321, scoring='neg_mean_poisson_deviance',\n",
       "                   verbose=1)"
      ]
     },
     "execution_count": 13,
     "metadata": {},
     "output_type": "execute_result"
    }
   ],
   "source": [
    "xgb_randomsearch_freq = RandomizedSearchCV(estimator=xgb_init_freq,\n",
    "                                      param_distributions=param_dict_xgb,\n",
    "                                      scoring='neg_mean_poisson_deviance',\n",
    "                                      n_iter=2,\n",
    "                                      verbose=1,\n",
    "                                      cv=5,\n",
    "                                      random_state = 54321)\n",
    "xgb_randomsearch_freq.fit(X_freq_train, y_freq_train, sample_weight=w_freq_train)"
   ]
  },
  {
   "cell_type": "code",
   "execution_count": 14,
   "id": "9563a340",
   "metadata": {},
   "outputs": [],
   "source": [
    "xgb_freq = xgb_randomsearch_freq.best_estimator_"
   ]
  },
  {
   "cell_type": "markdown",
   "id": "f02b24e4",
   "metadata": {},
   "source": [
    "#### 3.1.2 Interpretation"
   ]
  },
  {
   "cell_type": "code",
   "execution_count": 15,
   "id": "1f17a08a",
   "metadata": {},
   "outputs": [
    {
     "data": {
      "image/png": "[encoded data removed]",
      "text/plain": [
       "<Figure size 720x432 with 1 Axes>"
      ]
     },
     "metadata": {
      "needs_background": "light"
     },
     "output_type": "display_data"
    },
    {
     "data": {
      "text/html": [
       "<div>\n",
       "<style scoped>\n",
       "    .dataframe tbody tr th:only-of-type {\n",
       "        vertical-align: middle;\n",
       "    }\n",
       "\n",
       "    .dataframe tbody tr th {\n",
       "        vertical-align: top;\n",
       "    }\n",
       "\n",
       "    .dataframe thead th {\n",
       "        text-align: right;\n",
       "    }\n",
       "</style>\n",
       "<table border=\"1\" class=\"dataframe\">\n",
       "  <thead>\n",
       "    <tr style=\"text-align: right;\">\n",
       "      <th></th>\n",
       "      <th>feature</th>\n",
       "      <th>importance</th>\n",
       "    </tr>\n",
       "  </thead>\n",
       "  <tbody>\n",
       "    <tr>\n",
       "      <th>9</th>\n",
       "      <td>AGEPH</td>\n",
       "      <td>0.305964</td>\n",
       "    </tr>\n",
       "    <tr>\n",
       "      <th>3</th>\n",
       "      <td>split</td>\n",
       "      <td>0.256881</td>\n",
       "    </tr>\n",
       "    <tr>\n",
       "      <th>12</th>\n",
       "      <td>loc_category_2</td>\n",
       "      <td>0.076833</td>\n",
       "    </tr>\n",
       "    <tr>\n",
       "      <th>2</th>\n",
       "      <td>fuelc</td>\n",
       "      <td>0.071274</td>\n",
       "    </tr>\n",
       "    <tr>\n",
       "      <th>0</th>\n",
       "      <td>agecar</td>\n",
       "      <td>0.051978</td>\n",
       "    </tr>\n",
       "    <tr>\n",
       "      <th>7</th>\n",
       "      <td>coverp</td>\n",
       "      <td>0.042830</td>\n",
       "    </tr>\n",
       "    <tr>\n",
       "      <th>1</th>\n",
       "      <td>sexp</td>\n",
       "      <td>0.041181</td>\n",
       "    </tr>\n",
       "    <tr>\n",
       "      <th>8</th>\n",
       "      <td>powerc</td>\n",
       "      <td>0.029975</td>\n",
       "    </tr>\n",
       "    <tr>\n",
       "      <th>6</th>\n",
       "      <td>sportc</td>\n",
       "      <td>0.028580</td>\n",
       "    </tr>\n",
       "    <tr>\n",
       "      <th>4</th>\n",
       "      <td>usec</td>\n",
       "      <td>0.026399</td>\n",
       "    </tr>\n",
       "    <tr>\n",
       "      <th>5</th>\n",
       "      <td>fleetc</td>\n",
       "      <td>0.025175</td>\n",
       "    </tr>\n",
       "    <tr>\n",
       "      <th>11</th>\n",
       "      <td>loc_category_1</td>\n",
       "      <td>0.025044</td>\n",
       "    </tr>\n",
       "    <tr>\n",
       "      <th>10</th>\n",
       "      <td>loc_category_0</td>\n",
       "      <td>0.017886</td>\n",
       "    </tr>\n",
       "    <tr>\n",
       "      <th>13</th>\n",
       "      <td>loc_category_3</td>\n",
       "      <td>0.000000</td>\n",
       "    </tr>\n",
       "  </tbody>\n",
       "</table>\n",
       "</div>"
      ],
      "text/plain": [
       "           feature  importance\n",
       "9            AGEPH    0.305964\n",
       "3            split    0.256881\n",
       "12  loc_category_2    0.076833\n",
       "2            fuelc    0.071274\n",
       "0           agecar    0.051978\n",
       "7           coverp    0.042830\n",
       "1             sexp    0.041181\n",
       "8           powerc    0.029975\n",
       "6           sportc    0.028580\n",
       "4             usec    0.026399\n",
       "5           fleetc    0.025175\n",
       "11  loc_category_1    0.025044\n",
       "10  loc_category_0    0.017886\n",
       "13  loc_category_3    0.000000"
      ]
     },
     "execution_count": 15,
     "metadata": {},
     "output_type": "execute_result"
    }
   ],
   "source": [
    "get_feat_importance(xgb_freq, X_freq_train)"
   ]
  },
  {
   "cell_type": "code",
   "execution_count": 16,
   "id": "a1357bcd",
   "metadata": {},
   "outputs": [
    {
     "data": {
      "text/plain": [
       "<Figure size 3600x2880 with 0 Axes>"
      ]
     },
     "execution_count": 16,
     "metadata": {},
     "output_type": "execute_result"
    },
    {
     "data": {
      "text/plain": [
       "<Figure size 3600x2880 with 0 Axes>"
      ]
     },
     "metadata": {},
     "output_type": "display_data"
    }
   ],
   "source": [
    "plt.figure(figsize=(50, 40))"
   ]
  },
  {
   "cell_type": "code",
   "execution_count": 17,
   "id": "5770ca06",
   "metadata": {},
   "outputs": [
    {
     "data": {
      "text/plain": [
       "<sklearn.inspection._plot.partial_dependence.PartialDependenceDisplay at 0x2bf9f3d2470>"
      ]
     },
     "execution_count": 17,
     "metadata": {},
     "output_type": "execute_result"
    },
    {
     "data": {
      "image/png": "[encoded data removed]",
      "text/plain": [
       "<Figure size 3600x3600 with 15 Axes>"
      ]
     },
     "metadata": {
      "needs_background": "light"
     },
     "output_type": "display_data"
    },
    {
     "data": {
      "text/plain": [
       "<Figure size 10800x10800 with 0 Axes>"
      ]
     },
     "metadata": {},
     "output_type": "display_data"
    }
   ],
   "source": [
    "fig, ax = plt.subplots(figsize=(50, 50))\n",
    "plt.figure(figsize=(150, 150))\n",
    "PartialDependenceDisplay.from_estimator(xgb_freq, X_freq_train, \n",
    "                                        features =feat_cols, \n",
    "                                        categorical_features= categorical_feat_cols,\n",
    "                                        kind='average', ax=ax)"
   ]
  },
  {
   "cell_type": "markdown",
   "id": "c96edd91",
   "metadata": {},
   "source": [
    "### 3.2 Severity preidction"
   ]
  },
  {
   "cell_type": "code",
   "execution_count": 18,
   "id": "9552371c",
   "metadata": {},
   "outputs": [],
   "source": [
    "tmp = pd.concat([X_train, y_train], axis=1)\n",
    "tmp = tmp[tmp['nbrtotc'] > 1]\n",
    "\n",
    "X_sev_train = tmp[X_train.columns]\n",
    "y_sev_train = tmp['chargtot'] / tmp['nbrtotc']\n",
    "y_sev_log_train = np.log(y_sev_train)\n",
    "w_sev_train = tmp['nbrtotc']"
   ]
  },
  {
   "cell_type": "markdown",
   "id": "d659d658",
   "metadata": {},
   "source": [
    "#### 3.2.1 Mode building"
   ]
  },
  {
   "cell_type": "code",
   "execution_count": 19,
   "id": "8f31315d",
   "metadata": {},
   "outputs": [],
   "source": [
    "xgb_init_sev = xgb.XGBRegressor(booster='gbtree',\n",
    "                            learning_rate = 0.01,\n",
    "                            objective='reg:gamma',\n",
    "                            eval_metric = 'gamma-nloglik',\n",
    "                            monotone_constraints = (1,0,0,0,0,0,0,0,0),\n",
    "                            base_score = np.sum(y_sev_train * w_sev_train)/np.sum(w_sev_train))"
   ]
  },
  {
   "cell_type": "code",
   "execution_count": 20,
   "id": "90c0d79f",
   "metadata": {},
   "outputs": [
    {
     "name": "stdout",
     "output_type": "stream",
     "text": [
      "Fitting 5 folds for each of 2 candidates, totalling 10 fits\n"
     ]
    },
    {
     "data": {
      "text/html": [
       "<style>#sk-container-id-2 {color: black;background-color: white;}#sk-container-id-2 pre{padding: 0;}#sk-container-id-2 div.sk-toggleable {background-color: white;}#sk-container-id-2 label.sk-toggleable__label {cursor: pointer;display: block;width: 100%;margin-bottom: 0;padding: 0.3em;box-sizing: border-box;text-align: center;}#sk-container-id-2 label.sk-toggleable__label-arrow:before {content: \"▸\";float: left;margin-right: 0.25em;color: #696969;}#sk-container-id-2 label.sk-toggleable__label-arrow:hover:before {color: black;}#sk-container-id-2 div.sk-estimator:hover label.sk-toggleable__label-arrow:before {color: black;}#sk-container-id-2 div.sk-toggleable__content {max-height: 0;max-width: 0;overflow: hidden;text-align: left;background-color: #f0f8ff;}#sk-container-id-2 div.sk-toggleable__content pre {margin: 0.2em;color: black;border-radius: 0.25em;background-color: #f0f8ff;}#sk-container-id-2 input.sk-toggleable__control:checked~div.sk-toggleable__content {max-height: 200px;max-width: 100%;overflow: auto;}#sk-container-id-2 input.sk-toggleable__control:checked~label.sk-toggleable__label-arrow:before {content: \"▾\";}#sk-container-id-2 div.sk-estimator input.sk-toggleable__control:checked~label.sk-toggleable__label {background-color: #d4ebff;}#sk-container-id-2 div.sk-label input.sk-toggleable__control:checked~label.sk-toggleable__label {background-color: #d4ebff;}#sk-container-id-2 input.sk-hidden--visually {border: 0;clip: rect(1px 1px 1px 1px);clip: rect(1px, 1px, 1px, 1px);height: 1px;margin: -1px;overflow: hidden;padding: 0;position: absolute;width: 1px;}#sk-container-id-2 div.sk-estimator {font-family: monospace;background-color: #f0f8ff;border: 1px dotted black;border-radius: 0.25em;box-sizing: border-box;margin-bottom: 0.5em;}#sk-container-id-2 div.sk-estimator:hover {background-color: #d4ebff;}#sk-container-id-2 div.sk-parallel-item::after {content: \"\";width: 100%;border-bottom: 1px solid gray;flex-grow: 1;}#sk-container-id-2 div.sk-label:hover label.sk-toggleable__label {background-color: #d4ebff;}#sk-container-id-2 div.sk-serial::before {content: \"\";position: absolute;border-left: 1px solid gray;box-sizing: border-box;top: 0;bottom: 0;left: 50%;z-index: 0;}#sk-container-id-2 div.sk-serial {display: flex;flex-direction: column;align-items: center;background-color: white;padding-right: 0.2em;padding-left: 0.2em;position: relative;}#sk-container-id-2 div.sk-item {position: relative;z-index: 1;}#sk-container-id-2 div.sk-parallel {display: flex;align-items: stretch;justify-content: center;background-color: white;position: relative;}#sk-container-id-2 div.sk-item::before, #sk-container-id-2 div.sk-parallel-item::before {content: \"\";position: absolute;border-left: 1px solid gray;box-sizing: border-box;top: 0;bottom: 0;left: 50%;z-index: -1;}#sk-container-id-2 div.sk-parallel-item {display: flex;flex-direction: column;z-index: 1;position: relative;background-color: white;}#sk-container-id-2 div.sk-parallel-item:first-child::after {align-self: flex-end;width: 50%;}#sk-container-id-2 div.sk-parallel-item:last-child::after {align-self: flex-start;width: 50%;}#sk-container-id-2 div.sk-parallel-item:only-child::after {width: 0;}#sk-container-id-2 div.sk-dashed-wrapped {border: 1px dashed gray;margin: 0 0.4em 0.5em 0.4em;box-sizing: border-box;padding-bottom: 0.4em;background-color: white;}#sk-container-id-2 div.sk-label label {font-family: monospace;font-weight: bold;display: inline-block;line-height: 1.2em;}#sk-container-id-2 div.sk-label-container {text-align: center;}#sk-container-id-2 div.sk-container {/* jupyter's `normalize.less` sets `[hidden] { display: none; }` but bootstrap.min.css set `[hidden] { display: none !important; }` so we also need the `!important` here to be able to override the default hidden behavior on the sphinx rendered scikit-learn.org. See: https://github.com/scikit-learn/scikit-learn/issues/21755 */display: inline-block !important;position: relative;}#sk-container-id-2 div.sk-text-repr-fallback {display: none;}</style><div id=\"sk-container-id-2\" class=\"sk-top-container\"><div class=\"sk-text-repr-fallback\"><pre>RandomizedSearchCV(cv=5,\n",
       "                   estimator=XGBRegressor(base_score=1513.2623052328586,\n",
       "                                          booster=&#x27;gbtree&#x27;, callbacks=None,\n",
       "                                          colsample_bylevel=None,\n",
       "                                          colsample_bynode=None,\n",
       "                                          colsample_bytree=None,\n",
       "                                          early_stopping_rounds=None,\n",
       "                                          enable_categorical=False,\n",
       "                                          eval_metric=&#x27;gamma-nloglik&#x27;,\n",
       "                                          feature_types=None, gamma=None,\n",
       "                                          gpu_id=None, grow_policy=None,\n",
       "                                          importance_type=None,\n",
       "                                          interaction_co...\n",
       "                                          monotone_constraints=(1, 0, 0, 0, 0,\n",
       "                                                                0, 0, 0, 0),\n",
       "                                          n_estimators=100, n_jobs=None,\n",
       "                                          num_parallel_tree=None,\n",
       "                                          objective=&#x27;reg:gamma&#x27;, predictor=None, ...),\n",
       "                   n_iter=2,\n",
       "                   param_distributions={&#x27;alpha&#x27;: [0, 0.1, 1],\n",
       "                                        &#x27;colsample_bynode&#x27;: [0.5, 0.75, 1],\n",
       "                                        &#x27;lambda&#x27;: [0, 0.1, 1],\n",
       "                                        &#x27;max_depth&#x27;: [1, 3, 5, 7, 9],\n",
       "                                        &#x27;n_estimators&#x27;: [100, 200, 300]},\n",
       "                   random_state=54321, scoring=&#x27;neg_mean_gamma_deviance&#x27;,\n",
       "                   verbose=1)</pre><b>In a Jupyter environment, please rerun this cell to show the HTML representation or trust the notebook. <br />On GitHub, the HTML representation is unable to render, please try loading this page with nbviewer.org.</b></div><div class=\"sk-container\" hidden><div class=\"sk-item sk-dashed-wrapped\"><div class=\"sk-label-container\"><div class=\"sk-label sk-toggleable\"><input class=\"sk-toggleable__control sk-hidden--visually\" id=\"sk-estimator-id-4\" type=\"checkbox\" ><label for=\"sk-estimator-id-4\" class=\"sk-toggleable__label sk-toggleable__label-arrow\">RandomizedSearchCV</label><div class=\"sk-toggleable__content\"><pre>RandomizedSearchCV(cv=5,\n",
       "                   estimator=XGBRegressor(base_score=1513.2623052328586,\n",
       "                                          booster=&#x27;gbtree&#x27;, callbacks=None,\n",
       "                                          colsample_bylevel=None,\n",
       "                                          colsample_bynode=None,\n",
       "                                          colsample_bytree=None,\n",
       "                                          early_stopping_rounds=None,\n",
       "                                          enable_categorical=False,\n",
       "                                          eval_metric=&#x27;gamma-nloglik&#x27;,\n",
       "                                          feature_types=None, gamma=None,\n",
       "                                          gpu_id=None, grow_policy=None,\n",
       "                                          importance_type=None,\n",
       "                                          interaction_co...\n",
       "                                          monotone_constraints=(1, 0, 0, 0, 0,\n",
       "                                                                0, 0, 0, 0),\n",
       "                                          n_estimators=100, n_jobs=None,\n",
       "                                          num_parallel_tree=None,\n",
       "                                          objective=&#x27;reg:gamma&#x27;, predictor=None, ...),\n",
       "                   n_iter=2,\n",
       "                   param_distributions={&#x27;alpha&#x27;: [0, 0.1, 1],\n",
       "                                        &#x27;colsample_bynode&#x27;: [0.5, 0.75, 1],\n",
       "                                        &#x27;lambda&#x27;: [0, 0.1, 1],\n",
       "                                        &#x27;max_depth&#x27;: [1, 3, 5, 7, 9],\n",
       "                                        &#x27;n_estimators&#x27;: [100, 200, 300]},\n",
       "                   random_state=54321, scoring=&#x27;neg_mean_gamma_deviance&#x27;,\n",
       "                   verbose=1)</pre></div></div></div><div class=\"sk-parallel\"><div class=\"sk-parallel-item\"><div class=\"sk-item\"><div class=\"sk-label-container\"><div class=\"sk-label sk-toggleable\"><input class=\"sk-toggleable__control sk-hidden--visually\" id=\"sk-estimator-id-5\" type=\"checkbox\" ><label for=\"sk-estimator-id-5\" class=\"sk-toggleable__label sk-toggleable__label-arrow\">estimator: XGBRegressor</label><div class=\"sk-toggleable__content\"><pre>XGBRegressor(base_score=1513.2623052328586, booster=&#x27;gbtree&#x27;, callbacks=None,\n",
       "             colsample_bylevel=None, colsample_bynode=None,\n",
       "             colsample_bytree=None, early_stopping_rounds=None,\n",
       "             enable_categorical=False, eval_metric=&#x27;gamma-nloglik&#x27;,\n",
       "             feature_types=None, gamma=None, gpu_id=None, grow_policy=None,\n",
       "             importance_type=None, interaction_constraints=None,\n",
       "             learning_rate=0.01, max_bin=None, max_cat_threshold=None,\n",
       "             max_cat_to_onehot=None, max_delta_step=None, max_depth=None,\n",
       "             max_leaves=None, min_child_weight=None, missing=nan,\n",
       "             monotone_constraints=(1, 0, 0, 0, 0, 0, 0, 0, 0), n_estimators=100,\n",
       "             n_jobs=None, num_parallel_tree=None, objective=&#x27;reg:gamma&#x27;,\n",
       "             predictor=None, ...)</pre></div></div></div><div class=\"sk-serial\"><div class=\"sk-item\"><div class=\"sk-estimator sk-toggleable\"><input class=\"sk-toggleable__control sk-hidden--visually\" id=\"sk-estimator-id-6\" type=\"checkbox\" ><label for=\"sk-estimator-id-6\" class=\"sk-toggleable__label sk-toggleable__label-arrow\">XGBRegressor</label><div class=\"sk-toggleable__content\"><pre>XGBRegressor(base_score=1513.2623052328586, booster=&#x27;gbtree&#x27;, callbacks=None,\n",
       "             colsample_bylevel=None, colsample_bynode=None,\n",
       "             colsample_bytree=None, early_stopping_rounds=None,\n",
       "             enable_categorical=False, eval_metric=&#x27;gamma-nloglik&#x27;,\n",
       "             feature_types=None, gamma=None, gpu_id=None, grow_policy=None,\n",
       "             importance_type=None, interaction_constraints=None,\n",
       "             learning_rate=0.01, max_bin=None, max_cat_threshold=None,\n",
       "             max_cat_to_onehot=None, max_delta_step=None, max_depth=None,\n",
       "             max_leaves=None, min_child_weight=None, missing=nan,\n",
       "             monotone_constraints=(1, 0, 0, 0, 0, 0, 0, 0, 0), n_estimators=100,\n",
       "             n_jobs=None, num_parallel_tree=None, objective=&#x27;reg:gamma&#x27;,\n",
       "             predictor=None, ...)</pre></div></div></div></div></div></div></div></div></div></div>"
      ],
      "text/plain": [
       "RandomizedSearchCV(cv=5,\n",
       "                   estimator=XGBRegressor(base_score=1513.2623052328586,\n",
       "                                          booster='gbtree', callbacks=None,\n",
       "                                          colsample_bylevel=None,\n",
       "                                          colsample_bynode=None,\n",
       "                                          colsample_bytree=None,\n",
       "                                          early_stopping_rounds=None,\n",
       "                                          enable_categorical=False,\n",
       "                                          eval_metric='gamma-nloglik',\n",
       "                                          feature_types=None, gamma=None,\n",
       "                                          gpu_id=None, grow_policy=None,\n",
       "                                          importance_type=None,\n",
       "                                          interaction_co...\n",
       "                                          monotone_constraints=(1, 0, 0, 0, 0,\n",
       "                                                                0, 0, 0, 0),\n",
       "                                          n_estimators=100, n_jobs=None,\n",
       "                                          num_parallel_tree=None,\n",
       "                                          objective='reg:gamma', predictor=None, ...),\n",
       "                   n_iter=2,\n",
       "                   param_distributions={'alpha': [0, 0.1, 1],\n",
       "                                        'colsample_bynode': [0.5, 0.75, 1],\n",
       "                                        'lambda': [0, 0.1, 1],\n",
       "                                        'max_depth': [1, 3, 5, 7, 9],\n",
       "                                        'n_estimators': [100, 200, 300]},\n",
       "                   random_state=54321, scoring='neg_mean_gamma_deviance',\n",
       "                   verbose=1)"
      ]
     },
     "execution_count": 20,
     "metadata": {},
     "output_type": "execute_result"
    }
   ],
   "source": [
    "xgb_randomsearch_sev = RandomizedSearchCV(estimator=xgb_init_sev,\n",
    "                                      param_distributions=param_dict_xgb,\n",
    "                                      scoring='neg_mean_gamma_deviance',\n",
    "                                      n_iter=2,\n",
    "                                      verbose=1,\n",
    "                                      cv=5,\n",
    "                                      random_state = 54321)\n",
    "xgb_randomsearch_sev.fit(X_sev_train, y_sev_train, sample_weight=w_sev_train)"
   ]
  },
  {
   "cell_type": "code",
   "execution_count": 21,
   "id": "4a768ae1",
   "metadata": {},
   "outputs": [],
   "source": [
    "xgb_sev = xgb_randomsearch_sev.best_estimator_"
   ]
  },
  {
   "cell_type": "markdown",
   "id": "731f05bd",
   "metadata": {},
   "source": [
    "#### 3.2.2 Interpretation"
   ]
  },
  {
   "cell_type": "code",
   "execution_count": 22,
   "id": "1ec0301e",
   "metadata": {},
   "outputs": [
    {
     "data": {
      "image/png": "[encoded data removed]",
      "text/plain": [
       "<Figure size 720x432 with 1 Axes>"
      ]
     },
     "metadata": {
      "needs_background": "light"
     },
     "output_type": "display_data"
    },
    {
     "data": {
      "text/html": [
       "<div>\n",
       "<style scoped>\n",
       "    .dataframe tbody tr th:only-of-type {\n",
       "        vertical-align: middle;\n",
       "    }\n",
       "\n",
       "    .dataframe tbody tr th {\n",
       "        vertical-align: top;\n",
       "    }\n",
       "\n",
       "    .dataframe thead th {\n",
       "        text-align: right;\n",
       "    }\n",
       "</style>\n",
       "<table border=\"1\" class=\"dataframe\">\n",
       "  <thead>\n",
       "    <tr style=\"text-align: right;\">\n",
       "      <th></th>\n",
       "      <th>feature</th>\n",
       "      <th>importance</th>\n",
       "    </tr>\n",
       "  </thead>\n",
       "  <tbody>\n",
       "    <tr>\n",
       "      <th>10</th>\n",
       "      <td>loc_category_0</td>\n",
       "      <td>0.148391</td>\n",
       "    </tr>\n",
       "    <tr>\n",
       "      <th>7</th>\n",
       "      <td>coverp</td>\n",
       "      <td>0.144949</td>\n",
       "    </tr>\n",
       "    <tr>\n",
       "      <th>12</th>\n",
       "      <td>loc_category_2</td>\n",
       "      <td>0.111540</td>\n",
       "    </tr>\n",
       "    <tr>\n",
       "      <th>3</th>\n",
       "      <td>split</td>\n",
       "      <td>0.099896</td>\n",
       "    </tr>\n",
       "    <tr>\n",
       "      <th>8</th>\n",
       "      <td>powerc</td>\n",
       "      <td>0.096829</td>\n",
       "    </tr>\n",
       "    <tr>\n",
       "      <th>9</th>\n",
       "      <td>AGEPH</td>\n",
       "      <td>0.092887</td>\n",
       "    </tr>\n",
       "    <tr>\n",
       "      <th>1</th>\n",
       "      <td>sexp</td>\n",
       "      <td>0.081360</td>\n",
       "    </tr>\n",
       "    <tr>\n",
       "      <th>11</th>\n",
       "      <td>loc_category_1</td>\n",
       "      <td>0.052862</td>\n",
       "    </tr>\n",
       "    <tr>\n",
       "      <th>6</th>\n",
       "      <td>sportc</td>\n",
       "      <td>0.052817</td>\n",
       "    </tr>\n",
       "    <tr>\n",
       "      <th>0</th>\n",
       "      <td>agecar</td>\n",
       "      <td>0.041562</td>\n",
       "    </tr>\n",
       "    <tr>\n",
       "      <th>5</th>\n",
       "      <td>fleetc</td>\n",
       "      <td>0.036604</td>\n",
       "    </tr>\n",
       "    <tr>\n",
       "      <th>2</th>\n",
       "      <td>fuelc</td>\n",
       "      <td>0.029743</td>\n",
       "    </tr>\n",
       "    <tr>\n",
       "      <th>4</th>\n",
       "      <td>usec</td>\n",
       "      <td>0.010561</td>\n",
       "    </tr>\n",
       "    <tr>\n",
       "      <th>13</th>\n",
       "      <td>loc_category_3</td>\n",
       "      <td>0.000000</td>\n",
       "    </tr>\n",
       "  </tbody>\n",
       "</table>\n",
       "</div>"
      ],
      "text/plain": [
       "           feature  importance\n",
       "10  loc_category_0    0.148391\n",
       "7           coverp    0.144949\n",
       "12  loc_category_2    0.111540\n",
       "3            split    0.099896\n",
       "8           powerc    0.096829\n",
       "9            AGEPH    0.092887\n",
       "1             sexp    0.081360\n",
       "11  loc_category_1    0.052862\n",
       "6           sportc    0.052817\n",
       "0           agecar    0.041562\n",
       "5           fleetc    0.036604\n",
       "2            fuelc    0.029743\n",
       "4             usec    0.010561\n",
       "13  loc_category_3    0.000000"
      ]
     },
     "execution_count": 22,
     "metadata": {},
     "output_type": "execute_result"
    }
   ],
   "source": [
    "get_feat_importance(xgb_sev, X_sev_train)"
   ]
  },
  {
   "cell_type": "code",
   "execution_count": 23,
   "id": "49cbe1b8",
   "metadata": {},
   "outputs": [
    {
     "data": {
      "text/plain": [
       "<sklearn.inspection._plot.partial_dependence.PartialDependenceDisplay at 0x2bf9ff251b0>"
      ]
     },
     "execution_count": 23,
     "metadata": {},
     "output_type": "execute_result"
    },
    {
     "data": {
      "image/png": "[encoded data removed]",
      "text/plain": [
       "<Figure size 3600x3600 with 15 Axes>"
      ]
     },
     "metadata": {
      "needs_background": "light"
     },
     "output_type": "display_data"
    },
    {
     "data": {
      "text/plain": [
       "<Figure size 10800x10800 with 0 Axes>"
      ]
     },
     "metadata": {},
     "output_type": "display_data"
    }
   ],
   "source": [
    "fig, ax = plt.subplots(figsize=(50, 50))\n",
    "plt.figure(figsize=(150, 150))\n",
    "PartialDependenceDisplay.from_estimator(xgb_sev, X_sev_train, \n",
    "                                        features =feat_cols, \n",
    "                                        categorical_features= categorical_feat_cols,\n",
    "                                        kind='average', ax=ax)"
   ]
  },
  {
   "cell_type": "markdown",
   "id": "d5ddaeaa",
   "metadata": {},
   "source": [
    "# Caluclation safety demonstration"
   ]
  },
  {
   "cell_type": "code",
   "execution_count": 57,
   "id": "be778d28",
   "metadata": {},
   "outputs": [],
   "source": [
    "total_loss = tmp['chargtot'].sum()\n",
    "xgb_pred_frequency = xgb_freq.predict(tmp[feat_cols])\n",
    "xgb_pred_severity = xgb_sev.predict(tmp[feat_cols])\n",
    "xgb_pure_premium = xgb_pred_frequency * xgb_pred_severity\n",
    "xgb_total_premium = sum(xgb_pure_premium * tmp['expo'])"
   ]
  },
  {
   "cell_type": "code",
   "execution_count": 61,
   "id": "56ca677c",
   "metadata": {},
   "outputs": [
    {
     "data": {
      "text/plain": [
       "1.0000000000000018"
      ]
     },
     "execution_count": 61,
     "metadata": {},
     "output_type": "execute_result"
    }
   ],
   "source": [
    "a = tmp['nbrtotc'] / tmp['expo']\n",
    "b = tmp['chargtot'] / tmp['nbrtotc']\n",
    "t = tmp['chargtot'].sum()\n",
    "e = tmp['expo']\n",
    "\n",
    "t / sum(a * b * e)"
   ]
  },
  {
   "cell_type": "code",
   "execution_count": 64,
   "id": "9807853f",
   "metadata": {},
   "outputs": [
    {
     "data": {
      "text/plain": [
       "16.04737733388522"
      ]
     },
     "execution_count": 64,
     "metadata": {},
     "output_type": "execute_result"
    }
   ],
   "source": [
    "a = tmp['nbrtotc'] / tmp['expo']\n",
    "b = tmp['chargtot'] / tmp['nbrtotc']\n",
    "t = tmp['chargtot'].sum()\n",
    "e = tmp['expo']\n",
    "\n",
    "t / sum(a * b * e)"
   ]
  },
  {
   "cell_type": "code",
   "execution_count": 70,
   "id": "5702a179",
   "metadata": {},
   "outputs": [
    {
     "data": {
      "text/plain": [
       "0.2622161985474014"
      ]
     },
     "execution_count": 70,
     "metadata": {},
     "output_type": "execute_result"
    }
   ],
   "source": [
    "from sklearn.metrics import mean_absolute_error\n",
    "\n",
    "\n",
    "test = y_test['nbrtotc'] / y_test['expo']\n",
    "\n",
    "mean_absolute_error(test, xgb_freq.predict(X_test) )"
   ]
  },
  {
   "cell_type": "code",
   "execution_count": 69,
   "id": "9a3fc1ed",
   "metadata": {},
   "outputs": [
    {
     "data": {
      "text/plain": [
       "0.15425033096863114"
      ]
     },
     "execution_count": 69,
     "metadata": {},
     "output_type": "execute_result"
    }
   ],
   "source": [
    "np.mean(test)"
   ]
  },
  {
   "cell_type": "code",
   "execution_count": null,
   "id": "b76d9577",
   "metadata": {},
   "outputs": [],
   "source": []
  }
 ],
 "metadata": {
  "kernelspec": {
   "display_name": "Python 3 (ipykernel)",
   "language": "python",
   "name": "python3"
  },
  "language_info": {
   "codemirror_mode": {
    "name": "ipython",
    "version": 3
   },
   "file_extension": ".py",
   "mimetype": "text/x-python",
   "name": "python",
   "nbconvert_exporter": "python",
   "pygments_lexer": "ipython3",
   "version": "3.10.4"
  }
 },
 "nbformat": 4,
 "nbformat_minor": 5
}
